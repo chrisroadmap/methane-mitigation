{
 "cells": [
  {
   "cell_type": "markdown",
   "id": "cec73f92",
   "metadata": {},
   "source": [
    "# Headline analysis"
   ]
  },
  {
   "cell_type": "code",
   "execution_count": null,
   "id": "08e0b0ce",
   "metadata": {},
   "outputs": [],
   "source": [
    "import os\n",
    "import matplotlib.pyplot as pl\n",
    "import numpy as np\n",
    "import pandas as pd\n",
    "import xarray as xr\n",
    "import dask\n",
    "from tqdm.auto import tqdm"
   ]
  },
  {
   "cell_type": "code",
   "execution_count": null,
   "id": "a7268390",
   "metadata": {},
   "outputs": [],
   "source": [
    "os.makedirs('../plots', exist_ok=True)"
   ]
  },
  {
   "cell_type": "code",
   "execution_count": null,
   "id": "f8792b0d",
   "metadata": {},
   "outputs": [],
   "source": [
    "pl.rcParams['figure.figsize'] = (8.7/2.54, 8.7/2.54)\n",
    "pl.rcParams['font.size'] = 7\n",
    "pl.rcParams['font.family'] = 'Arial'\n",
    "pl.rcParams['ytick.direction'] = 'in'\n",
    "pl.rcParams['ytick.minor.visible'] = True\n",
    "pl.rcParams['ytick.major.right'] = True\n",
    "pl.rcParams['ytick.right'] = True\n",
    "pl.rcParams['xtick.direction'] = 'in'\n",
    "pl.rcParams['xtick.minor.visible'] = True\n",
    "pl.rcParams['xtick.major.top'] = True\n",
    "pl.rcParams['xtick.top'] = True\n",
    "pl.rcParams['axes.spines.top'] = True\n",
    "pl.rcParams['axes.spines.bottom'] = True\n",
    "pl.rcParams['figure.dpi'] = 150"
   ]
  },
  {
   "cell_type": "code",
   "execution_count": null,
   "id": "7aa3652b",
   "metadata": {},
   "outputs": [],
   "source": [
    "# ds = xr.open_dataset(\"../results/MESSAGEix-GLOBIOM_GE_SSP2_int_lc_15.nc\")\n",
    "def add_modelscen_coord(ds1):\n",
    "    filename = ds1.encoding[\"source\"]\n",
    "    return ds1.assign(model_scen=filename.split('/')[-1][:-3])\n",
    "\n",
    "ds = xr.open_mfdataset(str(\"../results/*.nc\"), parallel=True, preprocess=add_modelscen_coord, concat_dim='model_scen', combine=\"nested\")"
   ]
  },
  {
   "cell_type": "code",
   "execution_count": null,
   "id": "02530ac4",
   "metadata": {},
   "outputs": [],
   "source": [
    "ds"
   ]
  },
  {
   "cell_type": "code",
   "execution_count": null,
   "id": "0728fe66",
   "metadata": {},
   "outputs": [],
   "source": [
    "ds.coords[\"scenario\"]"
   ]
  },
  {
   "cell_type": "code",
   "execution_count": null,
   "id": "d0f5fe37",
   "metadata": {},
   "outputs": [],
   "source": [
    "ds.temperature"
   ]
  },
  {
   "cell_type": "code",
   "execution_count": null,
   "id": "d39b38fc",
   "metadata": {},
   "outputs": [],
   "source": [
    "scen_index = {\n",
    "    'MFR_tech_MCLE20': 3,\n",
    "    'MFR_tech_MC20_100': 1,\n",
    "    'MFR_tech_MCGT100': 2, \n",
    "    'MFR_explore': 4, \n",
    "    'MFR_fossil': 6,\n",
    "    'MFR_fair': 5,\n",
    "    'MFR_behavior': 7,\n",
    "    'MFR_develop': 8\n",
    "}"
   ]
  },
  {
   "cell_type": "code",
   "execution_count": null,
   "id": "84e323c3",
   "metadata": {},
   "outputs": [],
   "source": [
    "colors = {\n",
    "    'MFR_tech_MCLE20': '#0b0626',\n",
    "    'MFR_tech_MC20_100': '#31173f',\n",
    "    'MFR_tech_MCGT100': '#5f1f51', \n",
    "    'MFR_explore': '#8f2858', \n",
    "    'MFR_fossil': '#bb3854',\n",
    "    'MFR_fair': '#df5446',\n",
    "    'MFR_behavior': '#f77a30',\n",
    "    'MFR_develop': '#ffa600'\n",
    "}"
   ]
  },
  {
   "cell_type": "code",
   "execution_count": null,
   "id": "b4d5fe6c",
   "metadata": {},
   "outputs": [],
   "source": [
    "for scenario, index in scen_index.items():\n",
    "    pl.plot(\n",
    "        ds.year[265:], \n",
    "        np.median(\n",
    "            ds.temperature[:, 265:, index, :] - ds.temperature[:, 265:, 0, :],\n",
    "            axis=(0,2)\n",
    "        ),\n",
    "        label=scenario,\n",
    "        color=colors[scenario]\n",
    "    );\n",
    "pl.legend()\n",
    "pl.title(\"Median across climate and parent scenario\")\n",
    "pl.ylabel('°C relative to CLE_Baseline');\n",
    "pl.xlim(2015, 2100);"
   ]
  },
  {
   "cell_type": "code",
   "execution_count": null,
   "id": "8c1734fc",
   "metadata": {},
   "outputs": [],
   "source": [
    "notremind = np.where(ds.model_scen==\"REMIND 2.1_R2p1_SSP5-NPi\", -999, np.arange(113))"
   ]
  },
  {
   "cell_type": "code",
   "execution_count": null,
   "id": "7f2b981d",
   "metadata": {},
   "outputs": [],
   "source": [
    "notremind[notremind>=0]"
   ]
  },
  {
   "cell_type": "code",
   "execution_count": null,
   "id": "fc47d463",
   "metadata": {},
   "outputs": [],
   "source": [
    "agg = np.ones((112, 87, 8, 1001)) * np.nan\n",
    "for ind in range(8):\n",
    "    agg[:, :, ind, :] = ds.temperature[notremind[notremind>=0], 265:, ind+1, :] - ds.temperature[notremind[notremind>=0], 265:, 0, :]"
   ]
  },
  {
   "cell_type": "code",
   "execution_count": null,
   "id": "6bd5fd1b",
   "metadata": {},
   "outputs": [],
   "source": [
    "pl.fill_between(\n",
    "    ds.year[265:], \n",
    "    np.percentile(\n",
    "        agg,\n",
    "        5,\n",
    "        axis=(0,2,3)\n",
    "    ), np.percentile(\n",
    "        agg,\n",
    "        95,\n",
    "        axis=(0,2,3)\n",
    "    ),\n",
    "    color='0.8',\n",
    "#    alpha=0.3,\n",
    "    lw=0\n",
    ")\n",
    "for scenario, index in scen_index.items():\n",
    "    \n",
    "#     pl.fill_between(\n",
    "#         ds.year[265:], \n",
    "#         np.percentile(\n",
    "#             ds.temperature[, 265:, index, :] - ds.temperature[:, 265:, 0, :],\n",
    "#             5,\n",
    "#             axis=(0,2)\n",
    "#         ), np.percentile(\n",
    "#             ds.temperature[:, 265:, index, :] - ds.temperature[:, 265:, 0, :],\n",
    "#             95,\n",
    "#             axis=(0,2)\n",
    "#         ),\n",
    "#         color=colors[scenario],\n",
    "#         alpha=0.3,\n",
    "#         lw=0\n",
    "#     )\n",
    "    pl.plot(\n",
    "        ds.year[265:], \n",
    "        np.median(\n",
    "            ds.temperature[notremind[notremind>0], 265:, index, :] - ds.temperature[notremind[notremind>0], 265:, 0, :],\n",
    "            axis=(0,2)\n",
    "        ),\n",
    "        label=scenario,\n",
    "        color=colors[scenario]\n",
    "    );\n",
    "pl.legend()\n",
    "pl.title(\"Avoided warming: climate and scenario uncertainty\")\n",
    "pl.ylabel('°C relative to CLE_Baseline');\n",
    "pl.xlim(2015, 2100);\n",
    "pl.tight_layout()\n",
    "pl.savefig('../plots/warming_climate_scenario_uncertainty.png')\n",
    "pl.savefig('../plots/warming_climate_scenario_uncertainty.pdf')"
   ]
  },
  {
   "cell_type": "code",
   "execution_count": null,
   "id": "ee4fc1cc",
   "metadata": {},
   "outputs": [],
   "source": [
    "for scenario, index in scen_index.items():\n",
    "    pl.fill_between(\n",
    "        ds.year[265:], \n",
    "        np.percentile(\n",
    "            np.median(ds.temperature[:, 265:, index, :] - ds.temperature[:, 265:, 0, :], axis=0),\n",
    "            5,\n",
    "            axis=1\n",
    "        ), np.percentile(\n",
    "            np.median(ds.temperature[:, 265:, index, :] - ds.temperature[:, 265:, 0, :], axis=0),\n",
    "            95,\n",
    "            axis=1\n",
    "        ),\n",
    "        color=colors[scenario],\n",
    "        alpha=0.3,\n",
    "        lw=0\n",
    "    )\n",
    "    pl.plot(\n",
    "        ds.year[265:], \n",
    "        np.median(\n",
    "            np.median(ds.temperature[:, 265:, index, :] - ds.temperature[:, 265:, 0, :], axis=0),\n",
    "            axis=1\n",
    "        ),\n",
    "        label=scenario,\n",
    "        color=colors[scenario]\n",
    "    );\n",
    "pl.legend()\n",
    "pl.title(\"Avoided warming: climate uncertainty\")\n",
    "pl.ylabel('°C relative to CLE_Baseline');\n",
    "pl.xlim(2015, 2100);\n",
    "pl.tight_layout()\n",
    "pl.savefig('../plots/warming_climate_uncertainty.png')\n",
    "pl.savefig('../plots/warming_climate_uncertainty.pdf')"
   ]
  },
  {
   "cell_type": "code",
   "execution_count": null,
   "id": "2353bb8e",
   "metadata": {},
   "outputs": [],
   "source": [
    "for scenario, index in scen_index.items():\n",
    "    pl.fill_between(\n",
    "        ds.year[265:], \n",
    "        np.percentile(\n",
    "            np.median(ds.temperature[:, 265:, index, :] - ds.temperature[:, 265:, 0, :], axis=2),\n",
    "            5,\n",
    "            axis=0\n",
    "        ), np.percentile(\n",
    "            np.median(ds.temperature[:, 265:, index, :] - ds.temperature[:, 265:, 0, :], axis=2),\n",
    "            95,\n",
    "            axis=0\n",
    "        ),\n",
    "        color=colors[scenario],\n",
    "        alpha=0.3,\n",
    "        lw=0\n",
    "    )\n",
    "    pl.plot(\n",
    "        ds.year[265:], \n",
    "        np.median(\n",
    "            np.median(ds.temperature[:, 265:, index, :] - ds.temperature[:, 265:, 0, :], axis=2),\n",
    "            axis=0\n",
    "        ),\n",
    "        label=scenario,\n",
    "        color=colors[scenario]\n",
    "    );\n",
    "pl.legend()\n",
    "pl.title(\"Avoided warming: scenario uncertainty\")\n",
    "pl.ylabel('°C relative to CLE_Baseline');\n",
    "pl.xlim(2015, 2100);\n",
    "pl.tight_layout()\n",
    "pl.savefig('../plots/warming_scenario_uncertainty.png')\n",
    "pl.savefig('../plots/warming_scenario_uncertainty.pdf')"
   ]
  },
  {
   "cell_type": "code",
   "execution_count": null,
   "id": "8f7066b0",
   "metadata": {},
   "outputs": [],
   "source": [
    "for scenario, index in scen_index.items():\n",
    "    pl.plot(\n",
    "        ds.year[265:], \n",
    "        np.median(\n",
    "            ds.ch4_concentration[:, 265:, index, :] - ds.ch4_concentration[:, 265:, 0, :],\n",
    "            axis=(0,2)\n",
    "        ),\n",
    "        label=scenario,\n",
    "        color=colors[scenario]\n",
    "    );\n",
    "pl.legend()\n",
    "pl.title(\"Median across climate and parent scenario\")\n",
    "pl.ylabel('ppb difference relative to CLE_Baseline');\n",
    "pl.xlim(2015, 2100);\n",
    "pl.tight_layout()\n",
    "pl.savefig('../plots/concentration_climate_scenario_median.png')\n",
    "pl.savefig('../plots/concentration_climate_scenario_median.pdf')"
   ]
  },
  {
   "cell_type": "code",
   "execution_count": null,
   "id": "0427e33b",
   "metadata": {},
   "outputs": [],
   "source": [
    "df_emissions = pd.read_csv('../data/gains_scenarios_harmonized.csv')\n",
    "df_emissions"
   ]
  },
  {
   "cell_type": "code",
   "execution_count": null,
   "id": "868db99d",
   "metadata": {},
   "outputs": [],
   "source": [
    "df_emissions[['scenario', 'variant']] = df_emissions['scenario'].str.split(\"|\", expand=True)"
   ]
  },
  {
   "cell_type": "code",
   "execution_count": null,
   "id": "1a51a9c6",
   "metadata": {},
   "outputs": [],
   "source": [
    "df_emissions['model_scen'] = df_emissions['model'] + '_' + df_emissions['scenario']"
   ]
  },
  {
   "cell_type": "code",
   "execution_count": null,
   "id": "81765e5c",
   "metadata": {},
   "outputs": [],
   "source": [
    "df_emissions"
   ]
  },
  {
   "cell_type": "code",
   "execution_count": null,
   "id": "4dd2e431",
   "metadata": {},
   "outputs": [],
   "source": [
    "len(df_emissions['model_scen'].unique())"
   ]
  },
  {
   "cell_type": "code",
   "execution_count": null,
   "id": "84e882aa",
   "metadata": {},
   "outputs": [],
   "source": [
    "ds.model_scen"
   ]
  },
  {
   "cell_type": "code",
   "execution_count": null,
   "id": "c1f0b542",
   "metadata": {},
   "outputs": [],
   "source": [
    "for ims, model_scen in tqdm(enumerate(df_emissions['model_scen'].unique()), total=113):\n",
    "    for scenario, index in scen_index.items():\n",
    "        med_t = np.median(\n",
    "            ds.temperature[ims, 266:, index, :] - ds.temperature[ims, 266:, 0, :],\n",
    "            axis=1\n",
    "        )\n",
    "        #print(med_t)\n",
    "        if np.min(med_t) < -1:\n",
    "            print(model_scen, scenario)\n",
    "        pl.plot(\n",
    "            np.cumsum(\n",
    "                df_emissions.loc[\n",
    "                    (df_emissions['model_scen']==model_scen) & \n",
    "                    (df_emissions['variant']==scenario) &\n",
    "                    (df_emissions['variable']=='Emissions|CH4'),\n",
    "                    '2015':'2100'\n",
    "                ].values - df_emissions.loc[\n",
    "                    (df_emissions['model_scen']==model_scen) & \n",
    "                    (df_emissions['variant']=='Baseline_CLE') &\n",
    "                    (df_emissions['variable']=='Emissions|CH4'),\n",
    "                    '2015':'2100'\n",
    "                ].values\n",
    "            ),\n",
    " \n",
    "            med_t,\n",
    "            \n",
    "            color=colors[scenario]\n",
    "        )\n",
    "\n",
    "pl.xlabel('Cumulative reduction emissions compared to Baseline, MtCH4')\n",
    "pl.ylabel('Avoided warming, °C')\n",
    "pl.tight_layout()\n",
    "pl.savefig('../plots/warming_cumulativeCH4.png')\n",
    "pl.savefig('../plots/warming_cumulativeCH4.pdf')"
   ]
  },
  {
   "cell_type": "code",
   "execution_count": null,
   "id": "d1f3887a",
   "metadata": {},
   "outputs": [],
   "source": [
    "pl.plot(np.arange(1750, 2102), ds.temperature.loc[dict(model_scen='REMIND 2.1_R2p1_SSP5-NPi', scenario='Baseline_CLE')]);"
   ]
  },
  {
   "cell_type": "code",
   "execution_count": null,
   "id": "219647e0",
   "metadata": {},
   "outputs": [],
   "source": [
    "pl.plot(np.arange(1750, 2102), ds.ch4_concentration.loc[dict(model_scen='REMIND 2.1_R2p1_SSP5-NPi', scenario='Baseline_CLE')]);"
   ]
  },
  {
   "cell_type": "code",
   "execution_count": null,
   "id": "bbb43014",
   "metadata": {},
   "outputs": [],
   "source": [
    "ds.close()"
   ]
  },
  {
   "cell_type": "code",
   "execution_count": null,
   "id": "633ff085",
   "metadata": {},
   "outputs": [],
   "source": []
  }
 ],
 "metadata": {
  "kernelspec": {
   "display_name": "Python 3 (ipykernel)",
   "language": "python",
   "name": "python3"
  },
  "language_info": {
   "codemirror_mode": {
    "name": "ipython",
    "version": 3
   },
   "file_extension": ".py",
   "mimetype": "text/x-python",
   "name": "python",
   "nbconvert_exporter": "python",
   "pygments_lexer": "ipython3",
   "version": "3.11.0"
  }
 },
 "nbformat": 4,
 "nbformat_minor": 5
}
