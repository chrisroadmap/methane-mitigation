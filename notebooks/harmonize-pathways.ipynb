{
 "cells": [
  {
   "cell_type": "markdown",
   "id": "23413399",
   "metadata": {},
   "source": [
    "# Harmonize emissions\n",
    "\n",
    "Take the pyam output and make the pathways consistent with SSP historical data."
   ]
  },
  {
   "cell_type": "code",
   "execution_count": 1,
   "id": "4e7a4d54",
   "metadata": {},
   "outputs": [
    {
     "name": "stderr",
     "output_type": "stream",
     "text": [
      "/Users/chris/anaconda3/envs/methane-policy-iiasa/lib/python3.10/site-packages/scmdata/database/_database.py:9: TqdmExperimentalWarning: Using `tqdm.autonotebook.tqdm` in notebook mode. Use `tqdm.tqdm` instead to force console mode (e.g. in jupyter console)\n",
      "  import tqdm.autonotebook as tqdman\n"
     ]
    }
   ],
   "source": [
    "import datetime\n",
    "import warnings\n",
    "\n",
    "import aneris.convenience\n",
    "import pandas as pd\n",
    "import scmdata\n",
    "from tqdm.auto import tqdm"
   ]
  },
  {
   "cell_type": "markdown",
   "id": "39076176",
   "metadata": {},
   "source": [
    "I should have already pre-processed both the RCMIP historical and the GAINS scenarios to have the same variable names and units, which will make things much less painful.\n",
    "\n",
    "Obviously, CO2 and N2O need to be re-converted."
   ]
  },
  {
   "cell_type": "code",
   "execution_count": 2,
   "id": "99a79f9a",
   "metadata": {},
   "outputs": [],
   "source": [
    "variables = [\n",
    "    \"Emissions|CO2|Energy and Industrial Processes\",\n",
    "    \"Emissions|CO2|AFOLU\",\n",
    "    \"Emissions|CH4\",\n",
    "    \"Emissions|N2O\",\n",
    "    \"Emissions|Sulfur\",\n",
    "    \"Emissions|CO\",\n",
    "    \"Emissions|VOC\",\n",
    "    \"Emissions|NOx\",\n",
    "    \"Emissions|BC\",\n",
    "    \"Emissions|OC\",\n",
    "    \"Emissions|NH3\"\n",
    "]"
   ]
  },
  {
   "cell_type": "code",
   "execution_count": 3,
   "id": "b190593a",
   "metadata": {},
   "outputs": [],
   "source": [
    "var_units = {\n",
    "    \"Emissions|CO2|Energy and Industrial Processes\": \"Mt CO2/yr\",\n",
    "    \"Emissions|CO2|AFOLU\": \"Mt CO2/yr\",\n",
    "    \"Emissions|CH4\": \"Mt CH4/yr\",\n",
    "    \"Emissions|N2O\": \"kt N2O/yr\",\n",
    "    \"Emissions|Sulfur\": \"Mt SO2/yr\",\n",
    "    \"Emissions|CO\": \"Mt CO/yr\",\n",
    "    \"Emissions|VOC\": \"Mt VOC/yr\",\n",
    "    \"Emissions|NOx\": \"Mt NO2/yr\",\n",
    "    \"Emissions|BC\": \"Mt BC/yr\",\n",
    "    \"Emissions|OC\": \"Mt OC/yr\",\n",
    "    \"Emissions|NH3\": \"Mt NH3/yr\"\n",
    "}"
   ]
  },
  {
   "cell_type": "code",
   "execution_count": 4,
   "id": "60489e34",
   "metadata": {},
   "outputs": [],
   "source": [
    "times = []\n",
    "years = range(1750, 2015)\n",
    "for year in years:\n",
    "    times.append(datetime.datetime(year, 1, 1))\n",
    "    # emissions are really midyears, but we just want this to work"
   ]
  },
  {
   "cell_type": "code",
   "execution_count": 5,
   "id": "001f2cd7",
   "metadata": {},
   "outputs": [],
   "source": [
    "history = (\n",
    "    scmdata.ScmRun(\n",
    "        \"../data/rcmip5.1.0_historical.csv\", lowercase_cols=True\n",
    "    )\n",
    "    .filter(region=\"World\", variable=variables)\n",
    "    .interpolate(target_times=times)\n",
    "    .timeseries(time_axis=\"year\")\n",
    ")"
   ]
  },
  {
   "cell_type": "code",
   "execution_count": 6,
   "id": "22d85816",
   "metadata": {},
   "outputs": [],
   "source": [
    "times_future = []\n",
    "years_future = range(2014, 2101)\n",
    "for year in years_future:\n",
    "    times_future.append(datetime.datetime(year, 1, 1))"
   ]
  },
  {
   "cell_type": "code",
   "execution_count": 7,
   "id": "a10250b2",
   "metadata": {},
   "outputs": [],
   "source": [
    "future = (\n",
    "    scmdata.ScmRun(\"../data/gains_scenarios_pyam_format.csv\", lowercase_cols=True)\n",
    "#    .filter(scenario=scenarios, variable=rcmip_variables, region=\"World\")\n",
    "    .interpolate(times_future)\n",
    "    .timeseries(time_axis=\"year\")\n",
    ")"
   ]
  },
  {
   "cell_type": "code",
   "execution_count": 8,
   "id": "91ac4064",
   "metadata": {},
   "outputs": [],
   "source": [
    "overrides = pd.DataFrame(\n",
    "    [\n",
    "        {\n",
    "            \"method\": \"reduce_ratio_2150_cov\",\n",
    "            \"variable\": \"Emissions|CO\",\n",
    "        },\n",
    "        {\n",
    "            \"method\": \"reduce_ratio_2080\",\n",
    "            \"variable\": \"Emissions|CO2|Energy and Industrial Processes\",\n",
    "        },\n",
    "        {\n",
    "            \"method\": \"reduce_offset_2150_cov\",\n",
    "            \"variable\": \"Emissions|CO2|AFOLU\",\n",
    "        },\n",
    "        {\n",
    "            \"method\": \"reduce_ratio_2150_cov\",\n",
    "            \"variable\": \"Emissions|OC\",\n",
    "        },\n",
    "        {\n",
    "            \"method\": \"reduce_ratio_2150_cov\",\n",
    "            \"variable\": \"Emissions|VOC\",\n",
    "        },\n",
    "    ]\n",
    ")\n",
    "\n",
    "harmonisation_year = 2014"
   ]
  },
  {
   "cell_type": "code",
   "execution_count": 9,
   "id": "b8e8d12d",
   "metadata": {},
   "outputs": [
    {
     "data": {
      "application/vnd.jupyter.widget-view+json": {
       "model_id": "f626e1bcc9704d08bc747b58f3377c24",
       "version_major": 2,
       "version_minor": 0
      },
      "text/plain": [
       "  0%|          | 0/678 [00:00<?, ?it/s]"
      ]
     },
     "metadata": {},
     "output_type": "display_data"
    }
   ],
   "source": [
    "with warnings.catch_warnings():\n",
    "    warnings.simplefilter(\"ignore\")\n",
    "    scenarios_harmonised = [\n",
    "        aneris.convenience.harmonise_all(\n",
    "            msdf,\n",
    "            history=history,\n",
    "            harmonisation_year=harmonisation_year,\n",
    "            overrides=overrides,\n",
    "        )\n",
    "        for _, msdf in tqdm(future.groupby([\"model\", \"scenario\"]))\n",
    "    ]\n",
    "\n",
    "scenarios_harmonised = pd.concat(scenarios_harmonised).reset_index()"
   ]
  },
  {
   "cell_type": "code",
   "execution_count": 10,
   "id": "3f31a26f",
   "metadata": {},
   "outputs": [],
   "source": [
    "scenarios_harmonised.to_csv(\n",
    "    f\"../data/gains_scenarios_harmonized.csv\", index=False\n",
    ")"
   ]
  },
  {
   "cell_type": "code",
   "execution_count": null,
   "id": "fbb2408a",
   "metadata": {},
   "outputs": [],
   "source": []
  }
 ],
 "metadata": {
  "kernelspec": {
   "display_name": "Python 3 (ipykernel)",
   "language": "python",
   "name": "python3"
  },
  "language_info": {
   "codemirror_mode": {
    "name": "ipython",
    "version": 3
   },
   "file_extension": ".py",
   "mimetype": "text/x-python",
   "name": "python",
   "nbconvert_exporter": "python",
   "pygments_lexer": "ipython3",
   "version": "3.10.6"
  }
 },
 "nbformat": 4,
 "nbformat_minor": 5
}
