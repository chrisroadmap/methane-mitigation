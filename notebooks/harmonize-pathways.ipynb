{
 "cells": [
  {
   "cell_type": "markdown",
   "id": "23413399",
   "metadata": {},
   "source": [
    "# Harmonize emissions\n",
    "\n",
    "Take the pyam output and make the pathways consistent with SSP historical data."
   ]
  },
  {
   "cell_type": "code",
   "execution_count": null,
   "id": "4e7a4d54",
   "metadata": {},
   "outputs": [],
   "source": [
    "import aneris.convenience\n",
    "import scmdata"
   ]
  },
  {
   "cell_type": "code",
   "execution_count": null,
   "id": "99a79f9a",
   "metadata": {},
   "outputs": [],
   "source": [
    "variables = [\n",
    "    \"Emissions|CO2|Energy and Industrial Processes\",\n",
    "    \"Emissions|CO2|AFOLU\",\n",
    "    \"Emissions|CH4\",\n",
    "    \"Emissions|N2O\",\n",
    "    \"Emissions|Sulfur\",\n",
    "    \"Emissions|CO\",\n",
    "    \"Emissions|VOC\",\n",
    "    \"Emissions|NOx\",\n",
    "    \"Emissions|BC\",\n",
    "    \"Emissions|OC\",\n",
    "    \"Emissions|NH3\"\n",
    "]"
   ]
  }
 ],
 "metadata": {
  "kernelspec": {
   "display_name": "Python 3 (ipykernel)",
   "language": "python",
   "name": "python3"
  },
  "language_info": {
   "codemirror_mode": {
    "name": "ipython",
    "version": 3
   },
   "file_extension": ".py",
   "mimetype": "text/x-python",
   "name": "python",
   "nbconvert_exporter": "python",
   "pygments_lexer": "ipython3",
   "version": "3.11.0"
  }
 },
 "nbformat": 4,
 "nbformat_minor": 5
}
