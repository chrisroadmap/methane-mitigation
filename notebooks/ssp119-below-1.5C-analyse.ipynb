{
 "cells": [
  {
   "cell_type": "code",
   "execution_count": null,
   "id": "29f4091d",
   "metadata": {},
   "outputs": [],
   "source": [
    "import numpy as np\n",
    "import matplotlib.pyplot as pl\n",
    "import pandas as pd\n",
    "import xarray as xr"
   ]
  },
  {
   "cell_type": "code",
   "execution_count": null,
   "id": "824818bf",
   "metadata": {},
   "outputs": [],
   "source": [
    "pl.style.use('../defaults.mplstyle')"
   ]
  },
  {
   "cell_type": "code",
   "execution_count": null,
   "id": "353c84f9",
   "metadata": {},
   "outputs": [],
   "source": [
    "noch4r = xr.open_dataset('../results/noCH4R.nc')"
   ]
  },
  {
   "cell_type": "code",
   "execution_count": null,
   "id": "cd613445",
   "metadata": {},
   "outputs": [],
   "source": [
    "ch4r = xr.open_dataset('../results/CH4R.nc')"
   ]
  },
  {
   "cell_type": "code",
   "execution_count": null,
   "id": "0210dc94",
   "metadata": {},
   "outputs": [],
   "source": [
    "noch4r_lifetime = xr.open_dataset('../results/noCH4R_lifetime.nc')"
   ]
  },
  {
   "cell_type": "code",
   "execution_count": null,
   "id": "9ab540f6",
   "metadata": {},
   "outputs": [],
   "source": [
    "noch4r.temperature"
   ]
  },
  {
   "cell_type": "code",
   "execution_count": null,
   "id": "70a3801b",
   "metadata": {},
   "outputs": [],
   "source": [
    "ch4r.temperature"
   ]
  },
  {
   "cell_type": "code",
   "execution_count": null,
   "id": "9c87c182",
   "metadata": {},
   "outputs": [],
   "source": [
    "ecs_tcr = pd.read_csv('../results/ecs_tcr.csv', index_col=0)"
   ]
  },
  {
   "cell_type": "code",
   "execution_count": null,
   "id": "8df686ba",
   "metadata": {},
   "outputs": [],
   "source": [
    "temp_norm_19952014 = np.ones(21)\n",
    "temp_norm_19952014[0] = 0.5\n",
    "temp_norm_19952014[-1] = 0.5"
   ]
  },
  {
   "cell_type": "code",
   "execution_count": null,
   "id": "a43cc03c",
   "metadata": {},
   "outputs": [],
   "source": [
    "colors = {\n",
    "    'ssp119': '#00a9cf',\n",
    "    'COFFEE1.1 EN_NPi2020_400f_lowBECCS': '#B8BDAA',\n",
    "    'ssp534': '#92397a'\n",
    "}"
   ]
  },
  {
   "cell_type": "code",
   "execution_count": null,
   "id": "a174fe5c",
   "metadata": {},
   "outputs": [],
   "source": [
    "fig, ax = pl.subplots(figsize=(9/2.54, 9/2.54))\n",
    "pl.scatter(\n",
    "    -np.sum(\n",
    "        ch4r.emissions.loc[\n",
    "            dict(scenario='ssp119')\n",
    "        ] - noch4r.emissions.loc[\n",
    "            dict(scenario='ssp119', specie='CH4')\n",
    "        ], axis=0\n",
    "    )/1000, \n",
    "    np.max(\n",
    "        noch4r.temperature.loc[\n",
    "            dict(scenario='ssp119', layer=0)\n",
    "        ] - np.average(\n",
    "            noch4r.temperature.loc[\n",
    "                dict(scenario='ssp119', layer=0, timebound=np.arange(1995,2016))\n",
    "            ], axis=0, weights=temp_norm_19952014\n",
    "        ) + 0.85, axis=0\n",
    "    ),\n",
    "    label='ssp119',\n",
    "    s=5,\n",
    "    lw=0,\n",
    "    alpha=0.8,\n",
    "    color='#00a9cf'\n",
    ")\n",
    "\n",
    "pl.scatter(\n",
    "    -np.sum(\n",
    "        ch4r.emissions.loc[\n",
    "            dict(scenario='COFFEE1.1 EN_NPi2020_400f_lowBECCS')\n",
    "        ] - noch4r.emissions.loc[\n",
    "            dict(scenario='COFFEE1.1 EN_NPi2020_400f_lowBECCS', specie='CH4')\n",
    "        ], axis=0\n",
    "    )/1000, \n",
    "    np.max(\n",
    "        noch4r.temperature.loc[\n",
    "            dict(scenario='COFFEE1.1 EN_NPi2020_400f_lowBECCS', layer=0)\n",
    "        ] - np.average(\n",
    "            noch4r.temperature.loc[\n",
    "                dict(scenario='COFFEE1.1 EN_NPi2020_400f_lowBECCS', layer=0, timebound=np.arange(1995,2016))\n",
    "            ], axis=0, weights=temp_norm_19952014\n",
    "        ) + 0.85, axis=0\n",
    "    ),\n",
    "    label='IMP-Neg (C2)',\n",
    "    s=5,\n",
    "    lw=0,\n",
    "    alpha=0.8,\n",
    "    color='#B8BDAA'\n",
    ")\n",
    "\n",
    "pl.scatter(\n",
    "    -np.sum(\n",
    "        ch4r.emissions.loc[\n",
    "            dict(scenario='ssp534')\n",
    "        ] - noch4r.emissions.loc[\n",
    "            dict(scenario='ssp534', specie='CH4')\n",
    "        ], axis=0\n",
    "    )/1000, \n",
    "    np.max(\n",
    "        noch4r.temperature.loc[\n",
    "            dict(scenario='ssp534', layer=0)\n",
    "        ] - np.average(\n",
    "            noch4r.temperature.loc[\n",
    "                dict(scenario='ssp534', layer=0, timebound=np.arange(1995,2016))\n",
    "            ], axis=0, weights=temp_norm_19952014\n",
    "        ) + 0.85, axis=0\n",
    "    ),\n",
    "    label='ssp534',\n",
    "    s=5,\n",
    "    lw=0,\n",
    "    alpha=0.8,\n",
    "    color='#92397a'\n",
    ")\n",
    "\n",
    "pl.legend()\n",
    "\n",
    "pl.xlabel('Cumulative methane removal required 2020-2300 (GtCH$_4$)')\n",
    "pl.ylabel('Peak warming in underlying ensemble member (K)')\n",
    "fig.tight_layout()"
   ]
  },
  {
   "cell_type": "code",
   "execution_count": null,
   "id": "391952a9",
   "metadata": {},
   "outputs": [],
   "source": [
    "scenarios = ['ssp119', 'COFFEE1.1 EN_NPi2020_400f_lowBECCS', 'ssp534']\n",
    "labels = {\n",
    "    'ssp119': 'SSP1-1.9',\n",
    "    'COFFEE1.1 EN_NPi2020_400f_lowBECCS': 'IMP-Neg (C2)',\n",
    "    'ssp534': 'SSP5-3.4'\n",
    "}"
   ]
  },
  {
   "cell_type": "code",
   "execution_count": null,
   "id": "c338261d",
   "metadata": {},
   "outputs": [],
   "source": [
    "fig, ax = pl.subplots(figsize=(9/2.54, 9/2.54))\n",
    "for scenario in scenarios:\n",
    "    ax.plot(\n",
    "        noch4r.timepoint, \n",
    "        np.median(noch4r.emissions.loc[dict(scenario=scenario, specie='CH4')], axis=1), color=colors[scenario],\n",
    "        lw=0.5\n",
    "    );\n",
    "    ax.plot(\n",
    "        ch4r.timepoint, \n",
    "        np.median(ch4r.emissions.loc[dict(scenario=scenario)], axis=1), color=colors[scenario],\n",
    "        label=labels[scenario]\n",
    "    );\n",
    "ax.set_xlim(2000, 2300)\n",
    "ax.set_ylim(-400, 600)\n",
    "ax.axhline(0, lw=0.5, ls=':', color='k')\n",
    "ax.set_ylabel('Mt CH$_4$ yr$^{-1}$')\n",
    "ax.legend()\n",
    "ax.set_title('Ensemble median net methane emissions');"
   ]
  },
  {
   "cell_type": "code",
   "execution_count": null,
   "id": "2229cb17",
   "metadata": {},
   "outputs": [],
   "source": [
    "fig, ax = pl.subplots(figsize=(9/2.54, 9/2.54))\n",
    "for scenario in scenarios:\n",
    "    ax.plot(\n",
    "        ch4r.timepoint, \n",
    "        np.median(noch4r.emissions.loc[dict(scenario=scenario, specie='CH4')] - ch4r.emissions.loc[dict(scenario=scenario)], axis=1), color=colors[scenario],\n",
    "        label=labels[scenario]\n",
    "    );\n",
    "ax.set_xlim(2000, 2300)\n",
    "ax.set_ylim(0, 900)\n",
    "ax.axhline(0, lw=0.5, ls=':', color='k')\n",
    "ax.set_ylabel('Mt CH$_4$ yr$^{-1}$')\n",
    "ax.legend()\n",
    "ax.set_title('Ensemble median gross methane removal');"
   ]
  },
  {
   "cell_type": "code",
   "execution_count": null,
   "id": "f6041c80",
   "metadata": {},
   "outputs": [],
   "source": [
    "fig, ax = pl.subplots(figsize=(9/2.54, 9/2.54))\n",
    "for scenario in scenarios:\n",
    "    ax.plot(\n",
    "        noch4r.timebound, \n",
    "        np.median(noch4r.temperature.loc[dict(scenario=scenario, layer=0)], axis=1), color=colors[scenario],\n",
    "        lw=0.5\n",
    "    );\n",
    "    ax.plot(\n",
    "        ch4r.timebound, \n",
    "        np.median(ch4r.temperature.loc[dict(scenario=scenario)], axis=1), color=colors[scenario],\n",
    "        label=labels[scenario]\n",
    "    );\n",
    "ax.set_xlim(2000, 2300)\n",
    "ax.set_ylim(0.7, 2.5)\n",
    "ax.axhline(0, lw=0.5, ls=':', color='k')\n",
    "ax.set_ylabel('°C relative to 1850-1900')\n",
    "ax.axhline(1.5, lw=0.5, ls=':', color='k')\n",
    "ax.legend()\n",
    "ax.set_title('Ensemble median global mean surface temperature');"
   ]
  },
  {
   "cell_type": "code",
   "execution_count": null,
   "id": "3fde9b08",
   "metadata": {},
   "outputs": [],
   "source": [
    "fig, ax = pl.subplots(figsize=(9/2.54, 9/2.54))\n",
    "for scenario in scenarios:\n",
    "    ax.plot(\n",
    "        noch4r.timebound, \n",
    "        np.median(\n",
    "            noch4r.temperature.loc[dict(scenario=scenario, layer=0)] - ch4r.temperature.loc[dict(scenario=scenario)],\n",
    "            axis=1\n",
    "        ),\n",
    "        color=colors[scenario],\n",
    "        label=labels[scenario]\n",
    "    );\n",
    "ax.set_xlim(2000, 2300)\n",
    "ax.set_ylim(0, 0.8)\n",
    "ax.set_ylabel('°C')\n",
    "ax.axhline(1.5, lw=0.5, ls=':', color='k')\n",
    "ax.legend()\n",
    "ax.set_title('Ensemble median avoided warming');"
   ]
  },
  {
   "cell_type": "code",
   "execution_count": null,
   "id": "a1558fa8",
   "metadata": {},
   "outputs": [],
   "source": [
    "fig, ax = pl.subplots(figsize=(9/2.54, 9/2.54))\n",
    "for scenario in scenarios:\n",
    "    ax.plot(\n",
    "        noch4r.timebound, \n",
    "        np.median(noch4r.concentration.loc[dict(scenario=scenario, specie='CH4')], axis=1), color=colors[scenario],\n",
    "        lw=0.5\n",
    "    );\n",
    "    ax.plot(\n",
    "        ch4r.timebound, \n",
    "        np.median(ch4r.concentration.loc[dict(scenario=scenario)], axis=1), color=colors[scenario],\n",
    "        label=labels[scenario]\n",
    "    );\n",
    "ax.set_xlim(2000, 2300)\n",
    "ax.set_ylim(0, 2300)\n",
    "ax.set_ylabel('ppb')\n",
    "ax.legend()\n",
    "ax.set_title('Ensemble median methane concentrations');"
   ]
  },
  {
   "cell_type": "code",
   "execution_count": null,
   "id": "38b4de7c",
   "metadata": {},
   "outputs": [],
   "source": [
    "fig, ax = pl.subplots(figsize=(9/2.54, 9/2.54))\n",
    "for scenario in scenarios:\n",
    "    ax.plot(\n",
    "        noch4r.timebound, \n",
    "        np.median(noch4r.forcing.loc[dict(scenario=scenario, specie='CH4')], axis=1), color=colors[scenario],\n",
    "        lw=0.5\n",
    "    );\n",
    "    ax.plot(\n",
    "        ch4r.timebound, \n",
    "        np.median(ch4r.forcing_ch4.loc[dict(scenario=scenario)], axis=1), color=colors[scenario],\n",
    "        label=labels[scenario]\n",
    "    );\n",
    "ax.set_xlim(2000, 2300)\n",
    "ax.set_ylim(-1, 0.8)\n",
    "ax.axhline(0, lw=0.5, ls=':', color='k')\n",
    "ax.set_ylabel('W m$^{-2}$')\n",
    "ax.legend()\n",
    "ax.set_title('Ensemble median methane radiative forcing');"
   ]
  },
  {
   "cell_type": "code",
   "execution_count": null,
   "id": "ef1301b9",
   "metadata": {},
   "outputs": [],
   "source": [
    "fig, ax = pl.subplots(figsize=(9/2.54, 9/2.54))\n",
    "for scenario in scenarios:\n",
    "    ax.plot(\n",
    "        noch4r.timebound, \n",
    "        np.median(noch4r.forcing.loc[dict(scenario=scenario, specie='Ozone')], axis=1), color=colors[scenario],\n",
    "        lw=0.5\n",
    "    );\n",
    "    ax.plot(\n",
    "        ch4r.timebound, \n",
    "        np.median(ch4r.forcing_o3.loc[dict(scenario=scenario)], axis=1), color=colors[scenario],\n",
    "        label=labels[scenario]\n",
    "    );\n",
    "ax.set_xlim(2000, 2300)\n",
    "ax.set_ylim(-0.1, 0.6)\n",
    "ax.set_ylabel('W m$^{-2}$')\n",
    "ax.axhline(0, lw=0.5, ls=':', color='k')\n",
    "ax.legend()\n",
    "ax.set_title('Ensemble median ozone radiative forcing');"
   ]
  },
  {
   "cell_type": "code",
   "execution_count": null,
   "id": "643a0816",
   "metadata": {},
   "outputs": [],
   "source": [
    "fig, ax = pl.subplots(figsize=(9/2.54, 9/2.54))\n",
    "for scenario in scenarios:\n",
    "    ax.plot(\n",
    "        noch4r.timebound, \n",
    "        np.median(noch4r.forcing_sum.loc[dict(scenario=scenario)], axis=1), color=colors[scenario],\n",
    "        lw=0.5\n",
    "    );\n",
    "    ax.plot(\n",
    "        ch4r.timebound, \n",
    "        np.median(ch4r.forcing_sum.loc[dict(scenario=scenario)], axis=1), color=colors[scenario],\n",
    "        label=labels[scenario]\n",
    "    );\n",
    "ax.set_xlim(2000, 2300)\n",
    "ax.set_ylim(1, 5)\n",
    "ax.set_ylabel('W m$^{-2}$')\n",
    "ax.axhline(0, lw=0.5, ls=':', color='k')\n",
    "ax.legend()\n",
    "ax.set_title('Ensemble median radiative forcing');"
   ]
  },
  {
   "cell_type": "code",
   "execution_count": null,
   "id": "324db189",
   "metadata": {},
   "outputs": [],
   "source": [
    "noch4r_lifetime.loc[dict(scenario=scenario)]"
   ]
  },
  {
   "cell_type": "code",
   "execution_count": null,
   "id": "06a94ddb",
   "metadata": {},
   "outputs": [],
   "source": [
    "fig, ax = pl.subplots(figsize=(9/2.54, 9/2.54))\n",
    "for scenario in scenarios:\n",
    "    ax.plot(\n",
    "        noch4r.timebound, \n",
    "        np.median(noch4r_lifetime.loc[dict(scenario=scenario)].__xarray_dataarray_variable__, axis=1), color=colors[scenario],\n",
    "        lw=0.5\n",
    "    );\n",
    "    ax.plot(\n",
    "        ch4r.timebound, \n",
    "        np.median(ch4r.lifetime.loc[dict(scenario=scenario)], axis=1), color=colors[scenario],\n",
    "        label=labels[scenario]\n",
    "    );\n",
    "ax.set_xlim(2000, 2300)\n",
    "ax.set_ylim(6, 11)\n",
    "ax.set_ylabel('yr')\n",
    "ax.axhline(0, lw=0.5, ls=':', color='k')\n",
    "ax.legend()\n",
    "ax.set_title('Ensemble median methane lifetime');"
   ]
  },
  {
   "cell_type": "code",
   "execution_count": null,
   "id": "1388ca29",
   "metadata": {},
   "outputs": [],
   "source": [
    "# fig, ax = pl.subplots(2, 2, figsize=(18/2.54, 18/2.54))\n",
    "# ax[0,0].fill_between(\n",
    "#     ch4r.timepoint,\n",
    "#     np.percentile(\n",
    "#         ch4r.emissions.loc[dict(scenario='ssp119')],\n",
    "#         5,\n",
    "#         axis=1\n",
    "#     ),\n",
    "#     np.percentile(\n",
    "#         ch4r.emissions.loc[dict(scenario='ssp119')],\n",
    "#         95,\n",
    "#         axis=1\n",
    "#     ),\n",
    "#     color='k',\n",
    "#     alpha=0.3\n",
    "# )\n",
    "# ax[0,0].plot(ch4r.timepoint, np.median(ch4r.emissions.loc[dict(scenario='ssp119')], axis=1), color='k');\n",
    "# ax[0,0].plot(noch4r.timepoint, np.median(noch4r.emissions.loc[dict(scenario='ssp119', specie='CH4')], axis=1), color='r');\n",
    "# ax[0,0].axhline(0, color='k', lw=0.5, ls=':')\n",
    "# ax[0,0].set_xlim(2000, 2300)\n",
    "# ax[0,0].set_ylim(-500, 450)\n",
    "# ax[0,0].set_title(\"Net CH$_4$ emissions\")\n",
    "# ax[0,0].set_ylabel(\"MtCH$_4$ yr$^{-1}$\")"
   ]
  },
  {
   "cell_type": "code",
   "execution_count": null,
   "id": "8e80eb5c",
   "metadata": {},
   "outputs": [],
   "source": [
    "fig, ax = pl.subplots(figsize=(9/2.54, 9/2.54))\n",
    "pl.scatter(-np.sum(emissions_opt - ssp119.emissions[:, 0, :, 3].values, axis=0)/1000, ecs_tcr[\"TCR\"])\n",
    "pl.xlabel('Cumulative methane removal required (GtCH$_4$)')\n",
    "pl.ylabel('Transient climate response (K)')\n",
    "fig.tight_layout()"
   ]
  },
  {
   "cell_type": "code",
   "execution_count": null,
   "id": "b402d054",
   "metadata": {},
   "outputs": [],
   "source": [
    "fig, ax = pl.subplots(figsize=(9/2.54, 9/2.54))\n",
    "pl.scatter(-np.sum(emissions_opt - ssp119.emissions[:, 0, :, 3].values, axis=0)/1000, ecs_tcr[\"ECS\"])\n",
    "pl.xlabel('Cumulative methane removal required (GtCH$_4$)')\n",
    "pl.ylabel('Equilibrium climate sensitivity (K)')\n",
    "fig.tight_layout()"
   ]
  },
  {
   "cell_type": "code",
   "execution_count": null,
   "id": "e3bc61f0",
   "metadata": {},
   "outputs": [],
   "source": [
    "fig, ax = pl.subplots(figsize=(9/2.54, 9/2.54))\n",
    "pl.scatter(-np.sum(emissions_opt - ssp119.emissions[:, 0, :, 3].values, axis=0)/1000, ssp119.forcing[255:265, 0, :, 56:58].sum(axis=2).mean(axis=0))\n",
    "pl.xlabel('Cumulative methane removal required (GtCH$_4$)')\n",
    "pl.ylabel('2014 aerosol forcing')\n",
    "fig.tight_layout()"
   ]
  },
  {
   "cell_type": "code",
   "execution_count": null,
   "id": "0c1e4a1e",
   "metadata": {},
   "outputs": [],
   "source": [
    "zec = pd.read_csv('../results/zec_esm-bell.csv', index_col=0)\n",
    "zec"
   ]
  },
  {
   "cell_type": "code",
   "execution_count": null,
   "id": "7f587651",
   "metadata": {},
   "outputs": [],
   "source": [
    "fig, ax = pl.subplots(figsize=(9/2.54, 9/2.54))\n",
    "pl.scatter(-np.sum(emissions_opt - ssp119.emissions[:, 0, :, 3].values, axis=0)/1000, zec.zec100_750)\n",
    "pl.xlabel('Cumulative methane removal required (GtCH$_4$)')\n",
    "pl.ylabel('ZEC100 (750 PgC bell experiment)')\n",
    "fig.tight_layout()"
   ]
  },
  {
   "cell_type": "code",
   "execution_count": null,
   "id": "e71f1b9b",
   "metadata": {},
   "outputs": [],
   "source": []
  }
 ],
 "metadata": {
  "kernelspec": {
   "display_name": "Python 3 (ipykernel)",
   "language": "python",
   "name": "python3"
  },
  "language_info": {
   "codemirror_mode": {
    "name": "ipython",
    "version": 3
   },
   "file_extension": ".py",
   "mimetype": "text/x-python",
   "name": "python",
   "nbconvert_exporter": "python",
   "pygments_lexer": "ipython3",
   "version": "3.11.3"
  }
 },
 "nbformat": 4,
 "nbformat_minor": 5
}
