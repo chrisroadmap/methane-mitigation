{
 "cells": [
  {
   "cell_type": "code",
   "execution_count": null,
   "id": "e7e391c2",
   "metadata": {},
   "outputs": [],
   "source": [
    "import copy\n",
    "\n",
    "import numpy as np\n",
    "import matplotlib.pyplot as pl\n",
    "import pandas as pd\n",
    "import pooch\n",
    "\n",
    "from fair import FAIR\n",
    "from fair.io import read_properties\n",
    "from fair.interface import initialise, fill"
   ]
  },
  {
   "cell_type": "code",
   "execution_count": null,
   "id": "82a24076",
   "metadata": {},
   "outputs": [],
   "source": [
    "ar6_forcing_file = pooch.retrieve(\n",
    "    url=\"doi:10.5281/zenodo.5705391/table_A3.3_historical_ERF_1750-2019_best_estimate.csv\",\n",
    "    known_hash=\"md5:f64915777d2971c5eb5d96a432f45c48\",\n",
    ")"
   ]
  },
  {
   "cell_type": "code",
   "execution_count": null,
   "id": "3d49c07d",
   "metadata": {},
   "outputs": [],
   "source": [
    "ar6_forcing_df = pd.read_csv(ar6_forcing_file, index_col=0)"
   ]
  },
  {
   "cell_type": "code",
   "execution_count": null,
   "id": "45c60e7a",
   "metadata": {},
   "outputs": [],
   "source": [
    "pd.options.display.max_columns = 50\n",
    "fair_params_df = pd.read_csv('../data/fair2.1-parameters/ar6_calibration_ebm3.csv', index_col=0)\n",
    "fair_params_df"
   ]
  },
  {
   "cell_type": "code",
   "execution_count": null,
   "id": "f20a71cb",
   "metadata": {},
   "outputs": [],
   "source": [
    "volcanic_forcing = np.zeros(351)\n",
    "volcanic_forcing[:270] = ar6_forcing_df['volcanic'].values\n",
    "volcanic_forcing[269:281] = np.linspace(1, 0, 12) * volcanic_forcing[269]"
   ]
  },
  {
   "cell_type": "code",
   "execution_count": null,
   "id": "8db48348",
   "metadata": {},
   "outputs": [],
   "source": [
    "solar_forcing=np.zeros(351)\n",
    "solar_forcing_df = pd.read_csv('../data/forcing/solar_erf.csv', index_col=0)\n",
    "solar_forcing = solar_forcing_df['solar_erf'].values[:351]\n",
    "\n",
    "trend_shape = np.ones(351)\n",
    "trend_shape[:271] = np.linspace(0, 1, 271)"
   ]
  },
  {
   "cell_type": "code",
   "execution_count": null,
   "id": "c64c300a",
   "metadata": {},
   "outputs": [],
   "source": [
    "f = FAIR()\n",
    "f.define_time(1750, 2100, 1)\n",
    "f.define_scenarios(['ssp126'])\n",
    "species, properties = read_properties()\n",
    "f.define_species(species, properties)\n",
    "f.define_configs([fair_params_df.index[0]])\n",
    "f.allocate()\n",
    "f.fill_from_rcmip()\n",
    "# Volcanic forcing\n",
    "fill(f.forcing, volcanic_forcing[:, None, None] * fair_params_df.loc[fair_params_df.index[0], 'scale Volcanic'], specie='Volcanic')\n",
    "\n",
    "# Solar forcing\n",
    "trend_shape = np.ones(351)\n",
    "trend_shape[:271] = np.linspace(0, 1, 271)\n",
    "\n",
    "fill(f.forcing, \n",
    "     solar_forcing[:, None, None] * \n",
    "     fair_params_df.loc[fair_params_df.index[0], 'solar_amplitude'] + \n",
    "     trend_shape[:, None, None] * fair_params_df.loc[fair_params_df.index[0], 'solar_trend'],\n",
    "     specie='Solar'\n",
    ")\n",
    "f.fill_species_configs()\n",
    "# Climate response\n",
    "fill(f.climate_configs['ocean_heat_capacity'], fair_params_df.loc[fair_params_df.index[0],'c1':'c3'])\n",
    "fill(f.climate_configs['ocean_heat_transfer'], fair_params_df.loc[fair_params_df.index[0],'kappa1':'kappa3'])\n",
    "fill(f.climate_configs['deep_ocean_efficacy'], fair_params_df.loc[fair_params_df.index[0],'epsilon'])\n",
    "fill(f.climate_configs['sigma_eta'], fair_params_df.loc[fair_params_df.index[0],'sigma_eta'])\n",
    "fill(f.climate_configs['sigma_xi'], fair_params_df.loc[fair_params_df.index[0],'sigma_xi'])\n",
    "fill(f.climate_configs['gamma_autocorrelation'], fair_params_df.loc[fair_params_df.index[0],'gamma'])\n",
    "fill(f.climate_configs['seed'], fair_params_df.index[0]*399 + 1355763)\n",
    "fill(f.climate_configs['use_seed'], True)\n",
    "fill(f.climate_configs['stochastic_run'], False)\n",
    "\n",
    "# carbon cycle\n",
    "fill(f.species_configs['iirf_0'], fair_params_df.loc[fair_params_df.index[0], 'r0'], specie='CO2')\n",
    "fill(f.species_configs['iirf_airborne'], fair_params_df.loc[fair_params_df.index[0], 'rA'], specie='CO2')\n",
    "fill(f.species_configs['iirf_uptake'], fair_params_df.loc[fair_params_df.index[0], 'rU'], specie='CO2')\n",
    "fill(f.species_configs['iirf_temperature'], fair_params_df.loc[fair_params_df.index[0], 'rT'], specie='CO2')\n",
    "\n",
    "# aerosol direct\n",
    "for specie in ['BC', 'CH4', 'N2O', 'NH3', 'NOx', 'OC', 'Sulfur', 'VOC', 'Equivalent effective stratospheric chlorine']:\n",
    "    fill(f.species_configs['erfari_radiative_efficiency'], fair_params_df.loc[fair_params_df.index[0], f'ari {specie}'], specie=specie)\n",
    "\n",
    "# aerosol indirect\n",
    "fill(f.species_configs['aci_parameters'], fair_params_df.loc[fair_params_df.index[0], 'beta'], aci_parameter='scale')\n",
    "fill(f.species_configs['aci_parameters'], fair_params_df.loc[fair_params_df.index[0], 'shape_so2'], aci_parameter='Sulfur')\n",
    "fill(f.species_configs['aci_parameters'], fair_params_df.loc[fair_params_df.index[0], 'shape_bcoc'], aci_parameter='BC+OC')\n",
    "\n",
    "# ozone\n",
    "for specie in ['CH4', 'N2O', 'Equivalent effective stratospheric chlorine', 'CO', 'VOC', 'NOx']:\n",
    "    fill(f.species_configs['ozone_radiative_efficiency'], fair_params_df.loc[fair_params_df.index[0], f'o3 {specie}'], specie=specie)\n",
    "\n",
    "# methane lifetime baseline\n",
    "fill(f.species_configs['unperturbed_lifetime'], 10.4198121, specie='CH4')\n",
    "\n",
    "# emissions adjustments for N2O and CH4 (we don't want to make these defaults as people might wanna run pulse expts with these gases)\n",
    "fill(f.species_configs['baseline_emissions'], 19.019783117809567, specie='CH4')\n",
    "fill(f.species_configs['baseline_emissions'], 0.08602230754, specie='N2O')\n",
    "\n",
    "# forcing scaling\n",
    "\n",
    "for specie in ['CH4', 'N2O', 'Stratospheric water vapour', 'Contrails', 'Light absorbing particles on snow and ice', 'Land use']:\n",
    "    fill(f.species_configs['forcing_scale'], fair_params_df.loc[fair_params_df.index[0], f'scale {specie}'], specie=specie)\n",
    "for specie in ['CFC-11', 'CFC-12', 'CFC-113', 'CFC-114', 'CFC-115', 'HCFC-22', 'HCFC-141b', 'HCFC-142b',\n",
    "    'CCl4', 'CHCl3', 'CH2Cl2', 'CH3Cl', 'CH3CCl3', 'CH3Br', 'Halon-1211', 'Halon-1301', 'Halon-2402',\n",
    "    'CF4', 'C2F6', 'C3F8', 'c-C4F8', 'C4F10', 'C5F12', 'C6F14', 'C7F16', 'C8F18', 'NF3', 'SF6', 'SO2F2',\n",
    "    'HFC-125', 'HFC-134a', 'HFC-143a', 'HFC-152a', 'HFC-227ea', 'HFC-23', 'HFC-236fa', 'HFC-245fa', 'HFC-32',\n",
    "    'HFC-365mfc', 'HFC-4310mee']:\n",
    "    fill(f.species_configs['forcing_scale'], fair_params_df.loc[fair_params_df.index[0], 'scale minorGHG'], specie=specie)\n",
    "\n",
    "calibrated_f4co2_mean = 7.866801427264765\n",
    "fill(f.species_configs['forcing_scale'], 1 + 0.561*(calibrated_f4co2_mean - fair_params_df.loc[fair_params_df.index[0],'F_4xCO2'])/calibrated_f4co2_mean, specie='CO2')\n",
    "\n",
    "\n",
    "# tune down volcanic efficacy\n",
    "fill(f.species_configs['forcing_efficacy'], 0.6, specie='Volcanic')\n",
    "\n",
    "\n",
    "# initial condition of CO2 concentration (but not baseline for forcing calculations)\n",
    "fill(f.species_configs['baseline_concentration'], fair_params_df.loc[fair_params_df.index[0], 'co2_concentration_1750'], specie='CO2')\n",
    "\n",
    "f.ch4_method='Thornhill2021'\n",
    "\n",
    "initialise(f.concentration, f.species_configs['baseline_concentration'])\n",
    "initialise(f.forcing, 0)\n",
    "initialise(f.temperature, 0)\n",
    "initialise(f.airborne_emissions, 0)\n",
    "initialise(f.cumulative_emissions, 0)\n",
    "\n",
    "f.run()"
   ]
  },
  {
   "cell_type": "code",
   "execution_count": null,
   "id": "06e5ce67",
   "metadata": {},
   "outputs": [],
   "source": [
    "f1 = FAIR()"
   ]
  },
  {
   "cell_type": "code",
   "execution_count": null,
   "id": "974db475",
   "metadata": {},
   "outputs": [],
   "source": [
    "f1.define_time(1750, 2022, 1)"
   ]
  },
  {
   "cell_type": "code",
   "execution_count": null,
   "id": "97ecdfcf",
   "metadata": {},
   "outputs": [],
   "source": [
    "f1.define_scenarios(['ssp126'])"
   ]
  },
  {
   "cell_type": "code",
   "execution_count": null,
   "id": "fa78eeca",
   "metadata": {},
   "outputs": [],
   "source": [
    "species, properties = read_properties()"
   ]
  },
  {
   "cell_type": "code",
   "execution_count": null,
   "id": "ee0be19d",
   "metadata": {},
   "outputs": [],
   "source": [
    "f1.define_species(species, properties)"
   ]
  },
  {
   "cell_type": "code",
   "execution_count": null,
   "id": "992033c8",
   "metadata": {},
   "outputs": [],
   "source": [
    "[fair_params_df.index[0]]"
   ]
  },
  {
   "cell_type": "code",
   "execution_count": null,
   "id": "2542f058",
   "metadata": {},
   "outputs": [],
   "source": [
    "f1.define_configs([fair_params_df.index[0]])"
   ]
  },
  {
   "cell_type": "code",
   "execution_count": null,
   "id": "7acc0dc4",
   "metadata": {},
   "outputs": [],
   "source": [
    "f1.allocate()"
   ]
  },
  {
   "cell_type": "code",
   "execution_count": null,
   "id": "3ca9512b",
   "metadata": {},
   "outputs": [],
   "source": [
    "f1.fill_from_rcmip()"
   ]
  },
  {
   "cell_type": "code",
   "execution_count": null,
   "id": "e5fbd7ca",
   "metadata": {},
   "outputs": [],
   "source": [
    "# Volcanic forcing\n",
    "fill(f1.forcing, volcanic_forcing[:273, None, None] * fair_params_df.loc[fair_params_df.index[0], 'scale Volcanic'], specie='Volcanic')\n",
    "\n",
    "# Solar forcing\n",
    "fill(f1.forcing, \n",
    "     solar_forcing[:273, None, None] * \n",
    "     fair_params_df.loc[fair_params_df.index[0], 'solar_amplitude'] + \n",
    "     trend_shape[:273, None, None] * fair_params_df.loc[fair_params_df.index[0], 'solar_trend'],\n",
    "     specie='Solar'\n",
    ")"
   ]
  },
  {
   "cell_type": "code",
   "execution_count": null,
   "id": "a521c809",
   "metadata": {},
   "outputs": [],
   "source": [
    "f1.fill_species_configs()"
   ]
  },
  {
   "cell_type": "code",
   "execution_count": null,
   "id": "59c49fd7",
   "metadata": {},
   "outputs": [],
   "source": [
    "# Climate response\n",
    "fill(f1.climate_configs['ocean_heat_capacity'], fair_params_df.loc[fair_params_df.index[0],'c1':'c3'])\n",
    "fill(f1.climate_configs['ocean_heat_transfer'], fair_params_df.loc[fair_params_df.index[0],'kappa1':'kappa3'])\n",
    "fill(f1.climate_configs['deep_ocean_efficacy'], fair_params_df.loc[fair_params_df.index[0],'epsilon'])\n",
    "fill(f1.climate_configs['sigma_eta'], fair_params_df.loc[fair_params_df.index[0],'sigma_eta'])\n",
    "fill(f1.climate_configs['sigma_xi'], fair_params_df.loc[fair_params_df.index[0],'sigma_xi'])\n",
    "fill(f1.climate_configs['gamma_autocorrelation'], fair_params_df.loc[fair_params_df.index[0],'gamma'])\n",
    "fill(f1.climate_configs['seed'], fair_params_df.index[0]*399 + 1355763)\n",
    "fill(f1.climate_configs['use_seed'], True)\n",
    "fill(f1.climate_configs['stochastic_run'], False)\n",
    "\n",
    "# carbon cycle\n",
    "fill(f1.species_configs['iirf_0'], fair_params_df.loc[fair_params_df.index[0], 'r0'], specie='CO2')\n",
    "fill(f1.species_configs['iirf_airborne'], fair_params_df.loc[fair_params_df.index[0], 'rA'], specie='CO2')\n",
    "fill(f1.species_configs['iirf_uptake'], fair_params_df.loc[fair_params_df.index[0], 'rU'], specie='CO2')\n",
    "fill(f1.species_configs['iirf_temperature'], fair_params_df.loc[fair_params_df.index[0], 'rT'], specie='CO2')\n",
    "\n",
    "# aerosol direct\n",
    "for specie in ['BC', 'CH4', 'N2O', 'NH3', 'NOx', 'OC', 'Sulfur', 'VOC', 'Equivalent effective stratospheric chlorine']:\n",
    "    fill(f1.species_configs['erfari_radiative_efficiency'], fair_params_df.loc[fair_params_df.index[0], f'ari {specie}'], specie=specie)\n",
    "\n",
    "# aerosol indirect\n",
    "fill(f1.species_configs['aci_parameters'], fair_params_df.loc[fair_params_df.index[0], 'beta'], aci_parameter='scale')\n",
    "fill(f1.species_configs['aci_parameters'], fair_params_df.loc[fair_params_df.index[0], 'shape_so2'], aci_parameter='Sulfur')\n",
    "fill(f1.species_configs['aci_parameters'], fair_params_df.loc[fair_params_df.index[0], 'shape_bcoc'], aci_parameter='BC+OC')\n",
    "\n",
    "# ozone\n",
    "for specie in ['CH4', 'N2O', 'Equivalent effective stratospheric chlorine', 'CO', 'VOC', 'NOx']:\n",
    "    fill(f1.species_configs['ozone_radiative_efficiency'], fair_params_df.loc[fair_params_df.index[0], f'o3 {specie}'], specie=specie)\n",
    "\n",
    "# methane lifetime baseline\n",
    "fill(f1.species_configs['unperturbed_lifetime'], 10.4198121, specie='CH4')\n",
    "\n",
    "# emissions adjustments for N2O and CH4 (we don't want to make these defaults as people might wanna run pulse expts with these gases)\n",
    "fill(f1.species_configs['baseline_emissions'], 19.019783117809567, specie='CH4')\n",
    "fill(f1.species_configs['baseline_emissions'], 0.08602230754, specie='N2O')\n",
    "\n",
    "# forcing scaling\n",
    "\n",
    "for specie in ['CH4', 'N2O', 'Stratospheric water vapour', 'Contrails', 'Light absorbing particles on snow and ice', 'Land use']:\n",
    "    fill(f1.species_configs['forcing_scale'], fair_params_df.loc[fair_params_df.index[0], f'scale {specie}'], specie=specie)\n",
    "for specie in ['CFC-11', 'CFC-12', 'CFC-113', 'CFC-114', 'CFC-115', 'HCFC-22', 'HCFC-141b', 'HCFC-142b',\n",
    "    'CCl4', 'CHCl3', 'CH2Cl2', 'CH3Cl', 'CH3CCl3', 'CH3Br', 'Halon-1211', 'Halon-1301', 'Halon-2402',\n",
    "    'CF4', 'C2F6', 'C3F8', 'c-C4F8', 'C4F10', 'C5F12', 'C6F14', 'C7F16', 'C8F18', 'NF3', 'SF6', 'SO2F2',\n",
    "    'HFC-125', 'HFC-134a', 'HFC-143a', 'HFC-152a', 'HFC-227ea', 'HFC-23', 'HFC-236fa', 'HFC-245fa', 'HFC-32',\n",
    "    'HFC-365mfc', 'HFC-4310mee']:\n",
    "    fill(f1.species_configs['forcing_scale'], fair_params_df.loc[fair_params_df.index[0], 'scale minorGHG'], specie=specie)\n",
    "\n",
    "calibrated_f4co2_mean = 7.866801427264765\n",
    "fill(f1.species_configs['forcing_scale'], 1 + 0.561*(calibrated_f4co2_mean - fair_params_df.loc[fair_params_df.index[0],'F_4xCO2'])/calibrated_f4co2_mean, specie='CO2')\n",
    "\n",
    "\n",
    "# tune down volcanic efficacy\n",
    "fill(f1.species_configs['forcing_efficacy'], 0.6, specie='Volcanic')\n",
    "\n",
    "\n",
    "# initial condition of CO2 concentration (but not baseline for forcing calculations)\n",
    "fill(f1.species_configs['baseline_concentration'], fair_params_df.loc[fair_params_df.index[0], 'co2_concentration_1750'], specie='CO2')\n",
    "\n",
    "f1.ch4_method='Thornhill2021'"
   ]
  },
  {
   "cell_type": "code",
   "execution_count": null,
   "id": "1076f95a",
   "metadata": {},
   "outputs": [],
   "source": [
    "initialise(f1.concentration, f1.species_configs['baseline_concentration'])\n",
    "initialise(f1.forcing, 0)\n",
    "initialise(f1.temperature, 0)\n",
    "initialise(f1.airborne_emissions, 0)\n",
    "initialise(f1.cumulative_emissions, 0)"
   ]
  },
  {
   "cell_type": "code",
   "execution_count": null,
   "id": "0aca1135",
   "metadata": {},
   "outputs": [],
   "source": [
    "f1.run()"
   ]
  },
  {
   "cell_type": "code",
   "execution_count": null,
   "id": "a6a7bcec",
   "metadata": {},
   "outputs": [],
   "source": [
    "f1.gas_partitions[0, 0, 2, :]"
   ]
  },
  {
   "cell_type": "code",
   "execution_count": null,
   "id": "e478a8f5",
   "metadata": {},
   "outputs": [],
   "source": [
    "f2 = FAIR()"
   ]
  },
  {
   "cell_type": "code",
   "execution_count": null,
   "id": "b1d6882e",
   "metadata": {},
   "outputs": [],
   "source": [
    "f2.define_time(2022, 2100, 1)"
   ]
  },
  {
   "cell_type": "code",
   "execution_count": null,
   "id": "d9f960ef",
   "metadata": {},
   "outputs": [],
   "source": [
    "f2.define_scenarios(['ssp126'])"
   ]
  },
  {
   "cell_type": "code",
   "execution_count": null,
   "id": "153a6437",
   "metadata": {},
   "outputs": [],
   "source": [
    "species, properties = read_properties()"
   ]
  },
  {
   "cell_type": "code",
   "execution_count": null,
   "id": "6fd9a630",
   "metadata": {},
   "outputs": [],
   "source": [
    "f2.define_species(species, properties)"
   ]
  },
  {
   "cell_type": "code",
   "execution_count": null,
   "id": "9a9bf63d",
   "metadata": {},
   "outputs": [],
   "source": [
    "[fair_params_df.index[0]]"
   ]
  },
  {
   "cell_type": "code",
   "execution_count": null,
   "id": "b5f01fe6",
   "metadata": {},
   "outputs": [],
   "source": [
    "f2.define_configs([fair_params_df.index[0]])"
   ]
  },
  {
   "cell_type": "code",
   "execution_count": null,
   "id": "77aea271",
   "metadata": {},
   "outputs": [],
   "source": [
    "f2.allocate()"
   ]
  },
  {
   "cell_type": "code",
   "execution_count": null,
   "id": "c086e8c2",
   "metadata": {},
   "outputs": [],
   "source": [
    "f2.fill_from_rcmip()"
   ]
  },
  {
   "cell_type": "code",
   "execution_count": null,
   "id": "98027a32",
   "metadata": {},
   "outputs": [],
   "source": [
    "# Volcanic forcing\n",
    "fill(f2.forcing, volcanic_forcing[272:, None, None] * fair_params_df.loc[fair_params_df.index[0], 'scale Volcanic'], specie='Volcanic')\n",
    "\n",
    "# Solar forcing\n",
    "fill(f2.forcing, \n",
    "     solar_forcing[272:, None, None] * \n",
    "     fair_params_df.loc[fair_params_df.index[0], 'solar_amplitude'] + \n",
    "     trend_shape[272:, None, None] * fair_params_df.loc[fair_params_df.index[0], 'solar_trend'],\n",
    "     specie='Solar'\n",
    ")"
   ]
  },
  {
   "cell_type": "code",
   "execution_count": null,
   "id": "39d8cc32",
   "metadata": {},
   "outputs": [],
   "source": [
    "f2.fill_species_configs()"
   ]
  },
  {
   "cell_type": "code",
   "execution_count": null,
   "id": "5fbeb6d9",
   "metadata": {},
   "outputs": [],
   "source": [
    "# Climate response\n",
    "fill(f2.climate_configs['ocean_heat_capacity'], fair_params_df.loc[fair_params_df.index[0],'c1':'c3'])\n",
    "fill(f2.climate_configs['ocean_heat_transfer'], fair_params_df.loc[fair_params_df.index[0],'kappa1':'kappa3'])\n",
    "fill(f2.climate_configs['deep_ocean_efficacy'], fair_params_df.loc[fair_params_df.index[0],'epsilon'])\n",
    "fill(f2.climate_configs['sigma_eta'], fair_params_df.loc[fair_params_df.index[0],'sigma_eta'])\n",
    "fill(f2.climate_configs['sigma_xi'], fair_params_df.loc[fair_params_df.index[0],'sigma_xi'])\n",
    "fill(f2.climate_configs['gamma_autocorrelation'], fair_params_df.loc[fair_params_df.index[0],'gamma'])\n",
    "fill(f2.climate_configs['seed'], fair_params_df.index[0]*399 + 1355763)\n",
    "fill(f2.climate_configs['use_seed'], True)\n",
    "fill(f2.climate_configs['stochastic_run'], False)\n",
    "\n",
    "# carbon cycle\n",
    "fill(f2.species_configs['iirf_0'], fair_params_df.loc[fair_params_df.index[0], 'r0'], specie='CO2')\n",
    "fill(f2.species_configs['iirf_airborne'], fair_params_df.loc[fair_params_df.index[0], 'rA'], specie='CO2')\n",
    "fill(f2.species_configs['iirf_uptake'], fair_params_df.loc[fair_params_df.index[0], 'rU'], specie='CO2')\n",
    "fill(f2.species_configs['iirf_temperature'], fair_params_df.loc[fair_params_df.index[0], 'rT'], specie='CO2')\n",
    "\n",
    "# aerosol direct\n",
    "for specie in ['BC', 'CH4', 'N2O', 'NH3', 'NOx', 'OC', 'Sulfur', 'VOC', 'Equivalent effective stratospheric chlorine']:\n",
    "    fill(f2.species_configs['erfari_radiative_efficiency'], fair_params_df.loc[fair_params_df.index[0], f'ari {specie}'], specie=specie)\n",
    "\n",
    "# aerosol indirect\n",
    "fill(f2.species_configs['aci_parameters'], fair_params_df.loc[fair_params_df.index[0], 'beta'], aci_parameter='scale')\n",
    "fill(f2.species_configs['aci_parameters'], fair_params_df.loc[fair_params_df.index[0], 'shape_so2'], aci_parameter='Sulfur')\n",
    "fill(f2.species_configs['aci_parameters'], fair_params_df.loc[fair_params_df.index[0], 'shape_bcoc'], aci_parameter='BC+OC')\n",
    "\n",
    "# ozone\n",
    "for specie in ['CH4', 'N2O', 'Equivalent effective stratospheric chlorine', 'CO', 'VOC', 'NOx']:\n",
    "    fill(f2.species_configs['ozone_radiative_efficiency'], fair_params_df.loc[fair_params_df.index[0], f'o3 {specie}'], specie=specie)\n",
    "\n",
    "# methane lifetime baseline\n",
    "fill(f2.species_configs['unperturbed_lifetime'], 10.4198121, specie='CH4')\n",
    "\n",
    "# emissions adjustments for N2O and CH4 (we don't want to make these defaults as people might wanna run pulse expts with these gases)\n",
    "fill(f2.species_configs['baseline_emissions'], 19.019783117809567, specie='CH4')\n",
    "fill(f2.species_configs['baseline_emissions'], 0.08602230754, specie='N2O')\n",
    "\n",
    "# forcing scaling\n",
    "\n",
    "for specie in ['CH4', 'N2O', 'Stratospheric water vapour', 'Contrails', 'Light absorbing particles on snow and ice', 'Land use']:\n",
    "    fill(f2.species_configs['forcing_scale'], fair_params_df.loc[fair_params_df.index[0], f'scale {specie}'], specie=specie)\n",
    "for specie in ['CFC-11', 'CFC-12', 'CFC-113', 'CFC-114', 'CFC-115', 'HCFC-22', 'HCFC-141b', 'HCFC-142b',\n",
    "    'CCl4', 'CHCl3', 'CH2Cl2', 'CH3Cl', 'CH3CCl3', 'CH3Br', 'Halon-1211', 'Halon-1301', 'Halon-2402',\n",
    "    'CF4', 'C2F6', 'C3F8', 'c-C4F8', 'C4F10', 'C5F12', 'C6F14', 'C7F16', 'C8F18', 'NF3', 'SF6', 'SO2F2',\n",
    "    'HFC-125', 'HFC-134a', 'HFC-143a', 'HFC-152a', 'HFC-227ea', 'HFC-23', 'HFC-236fa', 'HFC-245fa', 'HFC-32',\n",
    "    'HFC-365mfc', 'HFC-4310mee']:\n",
    "    fill(f2.species_configs['forcing_scale'], fair_params_df.loc[fair_params_df.index[0], 'scale minorGHG'], specie=specie)\n",
    "\n",
    "calibrated_f4co2_mean = 7.866801427264765\n",
    "fill(f2.species_configs['forcing_scale'], 1 + 0.561*(calibrated_f4co2_mean - fair_params_df.loc[fair_params_df.index[0],'F_4xCO2'])/calibrated_f4co2_mean, specie='CO2')\n",
    "\n",
    "\n",
    "# tune down volcanic efficacy\n",
    "fill(f2.species_configs['forcing_efficacy'], 0.6, specie='Volcanic')\n",
    "\n",
    "\n",
    "# initial condition of CO2 concentration (but not baseline for forcing calculations)\n",
    "fill(f2.species_configs['baseline_concentration'], fair_params_df.loc[fair_params_df.index[0], 'co2_concentration_1750'], specie='CO2')\n",
    "\n",
    "f2.ch4_method='Thornhill2021'"
   ]
  },
  {
   "cell_type": "code",
   "execution_count": null,
   "id": "3daedf13",
   "metadata": {},
   "outputs": [],
   "source": [
    "f1.concentration[-1, ...]"
   ]
  },
  {
   "cell_type": "code",
   "execution_count": null,
   "id": "24f14e12",
   "metadata": {},
   "outputs": [],
   "source": [
    "initialise(f2.concentration, f1.concentration[-1, ...])\n",
    "initialise(f2.forcing, f1.forcing[-1, ...])\n",
    "initialise(f2.temperature, f1.temperature[-1, ...])\n",
    "initialise(f2.airborne_emissions, f1.airborne_emissions[-1, ...])\n",
    "initialise(f2.cumulative_emissions, f1.cumulative_emissions[-1, ...])\n",
    "f2.gas_partitions=f1.gas_partitions"
   ]
  },
  {
   "cell_type": "code",
   "execution_count": null,
   "id": "8edf6e70",
   "metadata": {},
   "outputs": [],
   "source": [
    "f2.run()"
   ]
  },
  {
   "cell_type": "code",
   "execution_count": null,
   "id": "af0e0863",
   "metadata": {},
   "outputs": [],
   "source": [
    "pl.plot(f.timebounds, f.temperature[:,0,0,0]-f.temperature[100:151,0,0,0].mean())\n",
    "pl.plot(f1.timebounds, f1.temperature[:,0,0,0]-f1.temperature[100:151,0,0,0].mean())\n",
    "pl.plot(f2.timebounds, f2.temperature[:,0,0,0]-f1.temperature[100:151,0,0,0].mean())"
   ]
  }
 ],
 "metadata": {
  "kernelspec": {
   "display_name": "Python 3 (ipykernel)",
   "language": "python",
   "name": "python3"
  },
  "language_info": {
   "codemirror_mode": {
    "name": "ipython",
    "version": 3
   },
   "file_extension": ".py",
   "mimetype": "text/x-python",
   "name": "python",
   "nbconvert_exporter": "python",
   "pygments_lexer": "ipython3",
   "version": "3.11.3"
  }
 },
 "nbformat": 4,
 "nbformat_minor": 5
}
