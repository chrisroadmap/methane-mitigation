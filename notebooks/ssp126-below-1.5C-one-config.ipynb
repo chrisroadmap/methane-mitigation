{
 "cells": [
  {
   "cell_type": "code",
   "execution_count": null,
   "id": "e7e391c2",
   "metadata": {},
   "outputs": [],
   "source": [
    "import copy\n",
    "import os\n",
    "\n",
    "import numpy as np\n",
    "import matplotlib.pyplot as pl\n",
    "import pandas as pd\n",
    "import pooch\n",
    "\n",
    "from fair import FAIR\n",
    "from fair.io import read_properties\n",
    "from fair.interface import initialise, fill"
   ]
  },
  {
   "cell_type": "code",
   "execution_count": null,
   "id": "7bc96bfb",
   "metadata": {},
   "outputs": [],
   "source": [
    "os.makedirs('../plots', exist_ok=True)"
   ]
  },
  {
   "cell_type": "code",
   "execution_count": null,
   "id": "06e5ce67",
   "metadata": {},
   "outputs": [],
   "source": [
    "f = FAIR()"
   ]
  },
  {
   "cell_type": "code",
   "execution_count": null,
   "id": "974db475",
   "metadata": {},
   "outputs": [],
   "source": [
    "f.define_time(1750, 2100, 1)"
   ]
  },
  {
   "cell_type": "code",
   "execution_count": null,
   "id": "97ecdfcf",
   "metadata": {},
   "outputs": [],
   "source": [
    "f.define_scenarios(['ssp126'])"
   ]
  },
  {
   "cell_type": "code",
   "execution_count": null,
   "id": "45c60e7a",
   "metadata": {},
   "outputs": [],
   "source": [
    "pd.options.display.max_columns = 50\n",
    "fair_params_df = pd.read_csv('../data/fair2.1-parameters/ar6_calibration_ebm3.csv', index_col=0)\n",
    "fair_params_df"
   ]
  },
  {
   "cell_type": "code",
   "execution_count": null,
   "id": "fa78eeca",
   "metadata": {},
   "outputs": [],
   "source": [
    "species, properties = read_properties()"
   ]
  },
  {
   "cell_type": "code",
   "execution_count": null,
   "id": "ee0be19d",
   "metadata": {},
   "outputs": [],
   "source": [
    "f.define_species(species, properties)"
   ]
  },
  {
   "cell_type": "code",
   "execution_count": null,
   "id": "992033c8",
   "metadata": {},
   "outputs": [],
   "source": [
    "[fair_params_df.index[10]]"
   ]
  },
  {
   "cell_type": "code",
   "execution_count": null,
   "id": "2542f058",
   "metadata": {},
   "outputs": [],
   "source": [
    "f.define_configs([fair_params_df.index[10]])"
   ]
  },
  {
   "cell_type": "code",
   "execution_count": null,
   "id": "7acc0dc4",
   "metadata": {},
   "outputs": [],
   "source": [
    "f.allocate()"
   ]
  },
  {
   "cell_type": "code",
   "execution_count": null,
   "id": "3ca9512b",
   "metadata": {},
   "outputs": [],
   "source": [
    "f.fill_from_rcmip()"
   ]
  },
  {
   "cell_type": "code",
   "execution_count": null,
   "id": "82a24076",
   "metadata": {},
   "outputs": [],
   "source": [
    "ar6_forcing_file = pooch.retrieve(\n",
    "    url=\"doi:10.5281/zenodo.5705391/table_A3.3_historical_ERF_1750-2019_best_estimate.csv\",\n",
    "    known_hash=\"md5:f64915777d2971c5eb5d96a432f45c48\",\n",
    ")"
   ]
  },
  {
   "cell_type": "code",
   "execution_count": null,
   "id": "3d49c07d",
   "metadata": {},
   "outputs": [],
   "source": [
    "ar6_forcing_df = pd.read_csv(ar6_forcing_file, index_col=0)"
   ]
  },
  {
   "cell_type": "code",
   "execution_count": null,
   "id": "f20a71cb",
   "metadata": {},
   "outputs": [],
   "source": [
    "volcanic_forcing = np.zeros(351)\n",
    "volcanic_forcing[:270] = ar6_forcing_df['volcanic'].values\n",
    "volcanic_forcing[269:281] = np.linspace(1, 0, 12) * volcanic_forcing[269]"
   ]
  },
  {
   "cell_type": "code",
   "execution_count": null,
   "id": "8db48348",
   "metadata": {},
   "outputs": [],
   "source": [
    "solar_forcing=np.zeros(351)\n",
    "solar_forcing_df = pd.read_csv('../data/forcing/solar_erf.csv', index_col=0)\n",
    "solar_forcing = solar_forcing_df['solar_erf'].values[:351]"
   ]
  },
  {
   "cell_type": "code",
   "execution_count": null,
   "id": "e5fbd7ca",
   "metadata": {},
   "outputs": [],
   "source": [
    "# Volcanic forcing\n",
    "fill(f.forcing, volcanic_forcing[:, None, None] * fair_params_df.loc[fair_params_df.index[0], 'scale Volcanic'], specie='Volcanic')\n",
    "\n",
    "# Solar forcing\n",
    "trend_shape = np.ones(351)\n",
    "trend_shape[:271] = np.linspace(0, 1, 271)\n",
    "\n",
    "fill(f.forcing, \n",
    "     solar_forcing[:, None, None] * \n",
    "     fair_params_df.loc[fair_params_df.index[0], 'solar_amplitude'] + \n",
    "     trend_shape[:, None, None] * fair_params_df.loc[fair_params_df.index[0], 'solar_trend'],\n",
    "     specie='Solar'\n",
    ")"
   ]
  },
  {
   "cell_type": "code",
   "execution_count": null,
   "id": "a521c809",
   "metadata": {},
   "outputs": [],
   "source": [
    "f.fill_species_configs()"
   ]
  },
  {
   "cell_type": "code",
   "execution_count": null,
   "id": "59c49fd7",
   "metadata": {},
   "outputs": [],
   "source": [
    "# Climate response\n",
    "fill(f.climate_configs['ocean_heat_capacity'], fair_params_df.loc[fair_params_df.index[10],'c1':'c3'])\n",
    "fill(f.climate_configs['ocean_heat_transfer'], fair_params_df.loc[fair_params_df.index[10],'kappa1':'kappa3'])\n",
    "fill(f.climate_configs['deep_ocean_efficacy'], fair_params_df.loc[fair_params_df.index[10],'epsilon'])\n",
    "fill(f.climate_configs['sigma_eta'], fair_params_df.loc[fair_params_df.index[10],'sigma_eta'])\n",
    "fill(f.climate_configs['sigma_xi'], fair_params_df.loc[fair_params_df.index[10],'sigma_xi'])\n",
    "fill(f.climate_configs['gamma_autocorrelation'], fair_params_df.loc[fair_params_df.index[10],'gamma'])\n",
    "fill(f.climate_configs['seed'], fair_params_df.index[10]*399 + 1355763)\n",
    "fill(f.climate_configs['use_seed'], True)\n",
    "fill(f.climate_configs['stochastic_run'], True)\n",
    "\n",
    "# carbon cycle\n",
    "fill(f.species_configs['iirf_0'], fair_params_df.loc[fair_params_df.index[10], 'r0'], specie='CO2')\n",
    "fill(f.species_configs['iirf_airborne'], fair_params_df.loc[fair_params_df.index[10], 'rA'], specie='CO2')\n",
    "fill(f.species_configs['iirf_uptake'], fair_params_df.loc[fair_params_df.index[10], 'rU'], specie='CO2')\n",
    "fill(f.species_configs['iirf_temperature'], fair_params_df.loc[fair_params_df.index[10], 'rT'], specie='CO2')\n",
    "\n",
    "# aerosol direct\n",
    "for specie in ['BC', 'CH4', 'N2O', 'NH3', 'NOx', 'OC', 'Sulfur', 'VOC', 'Equivalent effective stratospheric chlorine']:\n",
    "    fill(f.species_configs['erfari_radiative_efficiency'], fair_params_df.loc[fair_params_df.index[10], f'ari {specie}'], specie=specie)\n",
    "\n",
    "# aerosol indirect\n",
    "fill(f.species_configs['aci_scale'], fair_params_df.loc[fair_params_df.index[10], 'beta'])\n",
    "fill(f.species_configs['aci_shape'], fair_params_df.loc[fair_params_df.index[10], 'shape_so2'], specie='Sulfur')\n",
    "fill(f.species_configs['aci_shape'], fair_params_df.loc[fair_params_df.index[10], 'shape_bc'], specie='BC')\n",
    "fill(f.species_configs['aci_shape'], fair_params_df.loc[fair_params_df.index[10], 'shape_oc'], specie='OC')\n",
    "\n",
    "# ozone\n",
    "for specie in ['CH4', 'N2O', 'Equivalent effective stratospheric chlorine', 'CO', 'VOC', 'NOx']:\n",
    "    fill(f.species_configs['ozone_radiative_efficiency'], fair_params_df.loc[fair_params_df.index[10], f'o3 {specie}'], specie=specie)\n",
    "\n",
    "# methane lifetime baseline\n",
    "fill(f.species_configs['unperturbed_lifetime'], 10.4198121, specie='CH4')\n",
    "\n",
    "# emissions adjustments for N2O and CH4 (we don't want to make these defaults as people might wanna run pulse expts with these gases)\n",
    "fill(f.species_configs['baseline_emissions'], 19.019783117809567, specie='CH4')\n",
    "fill(f.species_configs['baseline_emissions'], 0.08602230754, specie='N2O')\n",
    "\n",
    "# forcing scaling\n",
    "\n",
    "for specie in ['CH4', 'N2O', 'Stratospheric water vapour', 'Contrails', 'Light absorbing particles on snow and ice', 'Land use']:\n",
    "    fill(f.species_configs['forcing_scale'], fair_params_df.loc[fair_params_df.index[10], f'scale {specie}'], specie=specie)\n",
    "for specie in ['CFC-11', 'CFC-12', 'CFC-113', 'CFC-114', 'CFC-115', 'HCFC-22', 'HCFC-141b', 'HCFC-142b',\n",
    "    'CCl4', 'CHCl3', 'CH2Cl2', 'CH3Cl', 'CH3CCl3', 'CH3Br', 'Halon-1211', 'Halon-1301', 'Halon-2402',\n",
    "    'CF4', 'C2F6', 'C3F8', 'c-C4F8', 'C4F10', 'C5F12', 'C6F14', 'C7F16', 'C8F18', 'NF3', 'SF6', 'SO2F2',\n",
    "    'HFC-125', 'HFC-134a', 'HFC-143a', 'HFC-152a', 'HFC-227ea', 'HFC-23', 'HFC-236fa', 'HFC-245fa', 'HFC-32',\n",
    "    'HFC-365mfc', 'HFC-4310mee']:\n",
    "    fill(f.species_configs['forcing_scale'], fair_params_df.loc[fair_params_df.index[10], 'scale minorGHG'], specie=specie)\n",
    "\n",
    "calibrated_f4co2_mean = 7.866801427264765\n",
    "fill(f.species_configs['forcing_scale'], 1 + 0.561*(calibrated_f4co2_mean - fair_params_df.loc[fair_params_df.index[10],'F_4xCO2'])/calibrated_f4co2_mean, specie='CO2')\n",
    "\n",
    "\n",
    "# tune down volcanic efficacy\n",
    "fill(f.species_configs['forcing_efficacy'], 0.6, specie='Volcanic')\n",
    "\n",
    "\n",
    "# initial condition of CO2 concentration (but not baseline for forcing calculations)\n",
    "fill(f.species_configs['baseline_concentration'], fair_params_df.loc[fair_params_df.index[10], 'co2_concentration_1750'], specie='CO2')\n",
    "\n",
    "f.ch4_method='Thornhill2021'"
   ]
  },
  {
   "cell_type": "code",
   "execution_count": null,
   "id": "1076f95a",
   "metadata": {},
   "outputs": [],
   "source": [
    "initialise(f.concentration, f.species_configs['baseline_concentration'])\n",
    "initialise(f.forcing, 0)\n",
    "initialise(f.temperature, 0)\n",
    "initialise(f.airborne_emissions, 0)\n",
    "initialise(f.cumulative_emissions, 0)"
   ]
  },
  {
   "cell_type": "code",
   "execution_count": null,
   "id": "0aca1135",
   "metadata": {},
   "outputs": [],
   "source": [
    "f.run()"
   ]
  },
  {
   "cell_type": "code",
   "execution_count": null,
   "id": "b445f0c4",
   "metadata": {},
   "outputs": [],
   "source": [
    "g = copy.deepcopy(f)\n",
    "fill(g.concentration, np.nan)\n",
    "initialise(g.concentration, g.species_configs['baseline_concentration'])\n",
    "initialise(g.forcing, 0)\n",
    "initialise(g.temperature, 0)\n",
    "initialise(g.airborne_emissions, 0)\n",
    "initialise(g.cumulative_emissions, 0)\n",
    "initialise(g.alpha_lifetime, 1)\n",
    "initialise(g.gas_partitions, np.array([0, 0, 0, 0]))\n",
    "\n",
    "g.emissions[272:280, 0, 0, 3] = np.linspace(f.emissions[272, 0, 0, 3].values, 0, 8)\n",
    "g.emissions[280:, 0, 0, 3] = 0\n",
    "g.run()"
   ]
  },
  {
   "cell_type": "code",
   "execution_count": null,
   "id": "ec629357",
   "metadata": {},
   "outputs": [],
   "source": [
    "fig, ax = pl.subplots(1, 2, squeeze=True)\n",
    "ax[0].plot(f.timepoints, f.emissions[:, 0, :, 3]);\n",
    "ax[0].plot(g.timepoints, g.emissions[:, 0, :, 3]);\n",
    "ax[0].axhline(0, color='k', lw=0.5, ls=':')\n",
    "ax[0].set_xlim(1850, 2100)\n",
    "ax[0].set_ylim(-50, 400)\n",
    "ax[0].set_title(\"Net CH$_4$ emissions\")\n",
    "ax[0].set_ylabel(\"MtCH$_4$ yr$^{-1}$\")\n",
    "\n",
    "ax[1].plot(f.timebounds, f.temperature[:, 0, :, 0] - f.temperature[100:151, 0, :, 0].mean(axis=0), label='SSP1-2.6');\n",
    "ax[1].plot(g.timebounds, g.temperature[:, 0, :, 0] - g.temperature[100:151, 0, :, 0].mean(axis=0), label='Methane removal');\n",
    "ax[1].axhline(1.5, color='r', lw=0.5, ls=':')\n",
    "ax[1].set_xlim(1850, 2100)\n",
    "ax[1].set_ylim(-.5, 2.5)\n",
    "ax[1].set_title(\"Global mean temperature anomaly\")\n",
    "ax[1].set_ylabel(\"K\")\n",
    "ax[1].legend()\n",
    "\n",
    "fig.tight_layout()\n",
    "pl.savefig(f'../plots/emis_temp_ens{fair_params_df.index[10]}.png')"
   ]
  },
  {
   "cell_type": "code",
   "execution_count": null,
   "id": "8f750037",
   "metadata": {},
   "outputs": [],
   "source": [
    "np.sum(g.emissions[:, 0, 0, 3] - f.emissions[:, 0, 0, 3])"
   ]
  },
  {
   "cell_type": "code",
   "execution_count": null,
   "id": "298fe5e4",
   "metadata": {},
   "outputs": [],
   "source": [
    "fig, ax = pl.subplots(1, 2, squeeze=True)\n",
    "ax[0].plot(f.timebounds, f.concentration[:, 0, :, 3]);\n",
    "ax[0].plot(g.timebounds, g.concentration[:, 0, :, 3]);\n",
    "ax[0].axhline(0, color='k', lw=0.5, ls=':')\n",
    "ax[0].set_xlim(1850, 2100)\n",
    "ax[0].set_ylim(600, 2000)\n",
    "ax[0].set_title(\"CH$_4$ concentration\")\n",
    "ax[0].set_ylabel(\"ppb\")\n",
    "\n",
    "ax[1].plot(f.timebounds, f.alpha_lifetime[:, 0, :, 3] * 10.4198121, label='SSP1-2.6');\n",
    "ax[1].plot(g.timebounds, g.alpha_lifetime[:, 0, :, 3] * 10.4198121, label='Methane removal');\n",
    "ax[1].set_xlim(1850, 2100)\n",
    "ax[1].set_ylim(8, 12)\n",
    "ax[1].set_title(\"Methane lifetime\")\n",
    "ax[1].set_ylabel(\"yr\")\n",
    "ax[1].legend()\n",
    "\n",
    "fig.tight_layout()\n",
    "pl.savefig(f'../plots/conc_lifetime_ens{fair_params_df.index[10]}.png')"
   ]
  },
  {
   "cell_type": "code",
   "execution_count": null,
   "id": "e3a07750",
   "metadata": {},
   "outputs": [],
   "source": [
    "fig, ax = pl.subplots(1, 2, squeeze=True)\n",
    "ax[0].plot(f.timebounds, f.forcing[:, 0, :, 57]);\n",
    "ax[0].plot(g.timebounds, g.forcing[:, 0, :, 57]);\n",
    "ax[0].axhline(0, color='k', lw=0.5, ls=':')\n",
    "ax[0].set_xlim(1850, 2100)\n",
    "ax[0].set_ylim(-0.05, 0.35)\n",
    "ax[0].set_title(\"Ozone forcing\")\n",
    "ax[0].set_ylabel(\"W m$^{-2}$\")\n",
    "\n",
    "ax[1].plot(f.timebounds, f.forcing[:, 0, :, 60], label='SSP1-2.6');\n",
    "ax[1].plot(g.timebounds, g.forcing[:, 0, :, 60], label='Methane removal');\n",
    "ax[1].axhline(0, color='k', lw=0.5, ls=':')\n",
    "ax[1].set_xlim(1850, 2100)\n",
    "ax[1].set_ylim(-0.02, 0.16)\n",
    "ax[1].set_title(\"Strat. water vapour forcing\")\n",
    "ax[1].set_ylabel(\"W m$^{-2}$\")\n",
    "ax[1].legend()\n",
    "\n",
    "fig.tight_layout()\n",
    "pl.savefig(f'../plots/ozone_h2o_ens{fair_params_df.index[10]}.png')"
   ]
  },
  {
   "cell_type": "code",
   "execution_count": null,
   "id": "2e13cab7",
   "metadata": {},
   "outputs": [],
   "source": [
    "f.forcing"
   ]
  },
  {
   "cell_type": "code",
   "execution_count": null,
   "id": "c8e2c69c",
   "metadata": {},
   "outputs": [],
   "source": [
    "fig, ax = pl.subplots()\n",
    "ax.plot(f.timebounds, f.forcing_sum[:, 0, :], label='SSP1-2.6');\n",
    "ax.plot(g.timebounds, g.forcing_sum[:, 0, :], label='Methane removal');\n",
    "ax.set_xlim(1850, 2100)\n",
    "ax.set_ylim(-2, 4)\n",
    "ax.set_title(\"Total effective radiative forcing\")\n",
    "ax.set_ylabel(\"W m$^{-2}$\")\n",
    "ax.axhline(0, color='k', lw=0.5, ls=':')\n",
    "ax.legend()\n",
    "\n",
    "fig.tight_layout()\n",
    "pl.savefig(f'../plots/forcing_ens{fair_params_df.index[10]}.png')"
   ]
  },
  {
   "cell_type": "code",
   "execution_count": null,
   "id": "95764891",
   "metadata": {},
   "outputs": [],
   "source": [
    "pl.plot(f.timebounds, f.forcing.loc[dict(specie='Ozone', config=fair_params_df.index[10], scenario='ssp126')])\n",
    "pl.plot(g.timebounds, g.forcing.loc[dict(specie='Ozone', config=fair_params_df.index[10], scenario='ssp126')])"
   ]
  },
  {
   "cell_type": "code",
   "execution_count": null,
   "id": "cb883261",
   "metadata": {},
   "outputs": [],
   "source": [
    "pl.plot(f.timebounds, f.forcing.loc[dict(specie='Aerosol-radiation interactions', config=fair_params_df.index[10], scenario='ssp126')])\n",
    "pl.plot(g.timebounds, g.forcing.loc[dict(specie='Aerosol-radiation interactions', config=fair_params_df.index[10], scenario='ssp126')])"
   ]
  },
  {
   "cell_type": "code",
   "execution_count": null,
   "id": "a3624549",
   "metadata": {},
   "outputs": [],
   "source": [
    "pl.plot(f.timebounds, f.forcing.loc[dict(specie='Stratospheric water vapour', config=fair_params_df.index[10], scenario='ssp126')])\n",
    "pl.plot(g.timebounds, g.forcing.loc[dict(specie='Stratospheric water vapour', config=fair_params_df.index[10], scenario='ssp126')])"
   ]
  },
  {
   "cell_type": "code",
   "execution_count": null,
   "id": "15b60f0e",
   "metadata": {},
   "outputs": [],
   "source": []
  }
 ],
 "metadata": {
  "kernelspec": {
   "display_name": "Python 3 (ipykernel)",
   "language": "python",
   "name": "python3"
  },
  "language_info": {
   "codemirror_mode": {
    "name": "ipython",
    "version": 3
   },
   "file_extension": ".py",
   "mimetype": "text/x-python",
   "name": "python",
   "nbconvert_exporter": "python",
   "pygments_lexer": "ipython3",
   "version": "3.11.3"
  }
 },
 "nbformat": 4,
 "nbformat_minor": 5
}
