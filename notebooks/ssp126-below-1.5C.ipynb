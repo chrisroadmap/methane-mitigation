{
 "cells": [
  {
   "cell_type": "code",
   "execution_count": null,
   "id": "d32b67a5",
   "metadata": {},
   "outputs": [],
   "source": [
    "import numpy as np\n",
    "import matplotlib.pyplot as pl\n",
    "import pandas as pd\n",
    "import pooch\n",
    "\n",
    "from fair import FAIR\n",
    "from fair.io import read_properties\n",
    "from fair.interface import initialise, fill"
   ]
  },
  {
   "cell_type": "code",
   "execution_count": null,
   "id": "b67adb44",
   "metadata": {},
   "outputs": [],
   "source": [
    "f = FAIR()"
   ]
  },
  {
   "cell_type": "code",
   "execution_count": null,
   "id": "125f8e62",
   "metadata": {},
   "outputs": [],
   "source": [
    "f.define_time(1750, 2100, 1)"
   ]
  },
  {
   "cell_type": "code",
   "execution_count": null,
   "id": "64e3b7bd",
   "metadata": {},
   "outputs": [],
   "source": [
    "f.define_scenarios(['ssp126'])"
   ]
  },
  {
   "cell_type": "code",
   "execution_count": null,
   "id": "d4950d58",
   "metadata": {},
   "outputs": [],
   "source": [
    "pd.options.display.max_columns = 50\n",
    "fair_params_df = pd.read_csv('../data/fair2.1-parameters/ar6_calibration_ebm3.csv', index_col=0)\n",
    "fair_params_df"
   ]
  },
  {
   "cell_type": "code",
   "execution_count": null,
   "id": "5e151857",
   "metadata": {},
   "outputs": [],
   "source": [
    "species, properties = read_properties()"
   ]
  },
  {
   "cell_type": "code",
   "execution_count": null,
   "id": "6684ae35",
   "metadata": {},
   "outputs": [],
   "source": [
    "f.define_species(species, properties)"
   ]
  },
  {
   "cell_type": "code",
   "execution_count": null,
   "id": "6c5f6e0c",
   "metadata": {},
   "outputs": [],
   "source": [
    "f.define_configs(list(fair_params_df.index))"
   ]
  },
  {
   "cell_type": "code",
   "execution_count": null,
   "id": "29d90528",
   "metadata": {},
   "outputs": [],
   "source": [
    "f.allocate()"
   ]
  },
  {
   "cell_type": "code",
   "execution_count": null,
   "id": "756cdb53",
   "metadata": {},
   "outputs": [],
   "source": [
    "f.fill_from_rcmip()"
   ]
  },
  {
   "cell_type": "code",
   "execution_count": null,
   "id": "439c403d",
   "metadata": {},
   "outputs": [],
   "source": [
    "ar6_forcing_file = pooch.retrieve(\n",
    "    url=\"doi:10.5281/zenodo.5705391/table_A3.3_historical_ERF_1750-2019_best_estimate.csv\",\n",
    "    known_hash=\"md5:f64915777d2971c5eb5d96a432f45c48\",\n",
    ")"
   ]
  },
  {
   "cell_type": "code",
   "execution_count": null,
   "id": "0a7f64bf",
   "metadata": {},
   "outputs": [],
   "source": [
    "ar6_forcing_df = pd.read_csv(ar6_forcing_file, index_col=0)"
   ]
  },
  {
   "cell_type": "code",
   "execution_count": null,
   "id": "80b95c20",
   "metadata": {},
   "outputs": [],
   "source": [
    "volcanic_forcing = np.zeros(351)\n",
    "volcanic_forcing[:270] = ar6_forcing_df['volcanic'].values\n",
    "volcanic_forcing[269:281] = np.linspace(1, 0, 12) * volcanic_forcing[269]"
   ]
  },
  {
   "cell_type": "code",
   "execution_count": null,
   "id": "99e36503",
   "metadata": {},
   "outputs": [],
   "source": [
    "solar_forcing=np.zeros(351)\n",
    "solar_forcing_df = pd.read_csv('../data/forcing/solar_erf.csv', index_col=0)\n",
    "solar_forcing = solar_forcing_df['solar_erf'].values[:351]"
   ]
  },
  {
   "cell_type": "code",
   "execution_count": null,
   "id": "b0586311",
   "metadata": {},
   "outputs": [],
   "source": [
    "# Volcanic forcing\n",
    "fill(f.forcing, volcanic_forcing[:, None, None] * fair_params_df.loc[:, 'scale Volcanic'].values[None, None, :], specie='Volcanic')\n",
    "\n",
    "# Solar forcing\n",
    "trend_shape = np.ones(351)\n",
    "trend_shape[:271] = np.linspace(0, 1, 271)\n",
    "\n",
    "fill(f.forcing, \n",
    "     solar_forcing[:, None, None] * \n",
    "     fair_params_df.loc[:, 'solar_amplitude'].values.squeeze() + \n",
    "     trend_shape[:, None, None] * fair_params_df.loc[:, 'solar_trend'].values.squeeze(),\n",
    "     specie='Solar'\n",
    ")"
   ]
  },
  {
   "cell_type": "code",
   "execution_count": null,
   "id": "529016a9",
   "metadata": {},
   "outputs": [],
   "source": [
    "f.fill_species_configs()"
   ]
  },
  {
   "cell_type": "code",
   "execution_count": null,
   "id": "1058501f",
   "metadata": {},
   "outputs": [],
   "source": [
    "# Climate response\n",
    "fill(f.climate_configs['ocean_heat_capacity'], fair_params_df.loc[:,'c1':'c3'])\n",
    "fill(f.climate_configs['ocean_heat_transfer'], fair_params_df.loc[:,'kappa1':'kappa3'])\n",
    "fill(f.climate_configs['deep_ocean_efficacy'], fair_params_df.loc[:,'epsilon'])\n",
    "fill(f.climate_configs['sigma_eta'], fair_params_df.loc[:,'sigma_eta'])\n",
    "fill(f.climate_configs['sigma_xi'], fair_params_df.loc[:,'sigma_xi'])\n",
    "fill(f.climate_configs['gamma_autocorrelation'], fair_params_df.loc[:,'gamma'])\n",
    "fill(f.climate_configs['seed'], fair_params_df.index*399 + 1355763)\n",
    "fill(f.climate_configs['use_seed'], True)\n",
    "fill(f.climate_configs['stochastic_run'], True)\n",
    "\n",
    "# carbon cycle\n",
    "fill(f.species_configs['iirf_0'], fair_params_df.loc[:, 'r0'].values.squeeze(), specie='CO2')\n",
    "fill(f.species_configs['iirf_airborne'], fair_params_df.loc[:, 'rA'].values.squeeze(), specie='CO2')\n",
    "fill(f.species_configs['iirf_uptake'], fair_params_df.loc[:, 'rU'].values.squeeze(), specie='CO2')\n",
    "fill(f.species_configs['iirf_temperature'], fair_params_df.loc[:, 'rT'].values.squeeze(), specie='CO2')\n",
    "\n",
    "# aerosol direct\n",
    "for specie in ['BC', 'CH4', 'N2O', 'NH3', 'NOx', 'OC', 'Sulfur', 'VOC', 'Equivalent effective stratospheric chlorine']:\n",
    "    fill(f.species_configs['erfari_radiative_efficiency'], fair_params_df.loc[:, f'ari {specie}'].values.squeeze(), specie=specie)\n",
    "\n",
    "# aerosol indirect\n",
    "fill(f.species_configs['aci_parameters'], fair_params_df.loc[:, 'beta'].values.squeeze(), aci_parameter='scale')\n",
    "fill(f.species_configs['aci_parameters'], fair_params_df.loc[:, 'shape_so2'].values.squeeze(), aci_parameter='Sulfur')\n",
    "fill(f.species_configs['aci_parameters'], fair_params_df.loc[:, 'shape_bcoc'].values.squeeze(), aci_parameter='BC+OC')\n",
    "\n",
    "# ozone\n",
    "for specie in ['CH4', 'N2O', 'Equivalent effective stratospheric chlorine', 'CO', 'VOC', 'NOx']:\n",
    "    fill(f.species_configs['ozone_radiative_efficiency'], fair_params_df.loc[:, f'o3 {specie}'], specie=specie)\n",
    "\n",
    "# methane lifetime baseline\n",
    "fill(f.species_configs['unperturbed_lifetime'], 10.4198121, specie='CH4')\n",
    "\n",
    "# emissions adjustments for N2O and CH4 (we don't want to make these defaults as people might wanna run pulse expts with these gases)\n",
    "fill(f.species_configs['baseline_emissions'], 19.019783117809567, specie='CH4')\n",
    "fill(f.species_configs['baseline_emissions'], 0.08602230754, specie='N2O')\n",
    "\n",
    "# forcing scaling\n",
    "\n",
    "for specie in ['CH4', 'N2O', 'Stratospheric water vapour', 'Contrails', 'Light absorbing particles on snow and ice', 'Land use']:\n",
    "    fill(f.species_configs['forcing_scale'], fair_params_df.loc[:, f'scale {specie}'].values.squeeze(), specie=specie)\n",
    "for specie in ['CFC-11', 'CFC-12', 'CFC-113', 'CFC-114', 'CFC-115', 'HCFC-22', 'HCFC-141b', 'HCFC-142b',\n",
    "    'CCl4', 'CHCl3', 'CH2Cl2', 'CH3Cl', 'CH3CCl3', 'CH3Br', 'Halon-1211', 'Halon-1301', 'Halon-2402',\n",
    "    'CF4', 'C2F6', 'C3F8', 'c-C4F8', 'C4F10', 'C5F12', 'C6F14', 'C7F16', 'C8F18', 'NF3', 'SF6', 'SO2F2',\n",
    "    'HFC-125', 'HFC-134a', 'HFC-143a', 'HFC-152a', 'HFC-227ea', 'HFC-23', 'HFC-236fa', 'HFC-245fa', 'HFC-32',\n",
    "    'HFC-365mfc', 'HFC-4310mee']:\n",
    "    fill(f.species_configs['forcing_scale'], fair_params_df.loc[:, 'scale minorGHG'].values.squeeze(), specie=specie)\n",
    "\n",
    "calibrated_f4co2_mean = fair_params_df.loc[:,'F_4xCO2'].values.mean()\n",
    "fill(f.species_configs['forcing_scale'], 1 + 0.561*(calibrated_f4co2_mean - fair_params_df.loc[:,'F_4xCO2'].values)/calibrated_f4co2_mean, specie='CO2')\n",
    "\n",
    "\n",
    "# tune down volcanic efficacy\n",
    "fill(f.species_configs['forcing_efficacy'], 0.6, specie='Volcanic')\n",
    "\n",
    "\n",
    "# initial condition of CO2 concentration (but not baseline for forcing calculations)\n",
    "fill(f.species_configs['baseline_concentration'], fair_params_df.loc[:, 'co2_concentration_1750'].values.squeeze(), specie='CO2')\n",
    "\n",
    "f.ch4_method='Thornhill2021'"
   ]
  },
  {
   "cell_type": "code",
   "execution_count": null,
   "id": "469d90e8",
   "metadata": {},
   "outputs": [],
   "source": [
    "initialise(f.concentration, f.species_configs['baseline_concentration'])\n",
    "initialise(f.forcing, 0)\n",
    "initialise(f.temperature, 0)\n",
    "initialise(f.airborne_emissions, 0)\n",
    "initialise(f.cumulative_emissions, 0)"
   ]
  },
  {
   "cell_type": "code",
   "execution_count": null,
   "id": "22ef881c",
   "metadata": {},
   "outputs": [],
   "source": [
    "f.run()"
   ]
  },
  {
   "cell_type": "code",
   "execution_count": null,
   "id": "77cfae91",
   "metadata": {},
   "outputs": [],
   "source": [
    "pl.plot(f.timebounds, f.temperature[:, 0, :, 0] - f.temperature[100:151, 0, :, 0].mean(axis=0));\n",
    "pl.xlim(1850, 2100)\n",
    "pl.ylim(-.5, 3.5)"
   ]
  },
  {
   "cell_type": "code",
   "execution_count": null,
   "id": "93a4e56c",
   "metadata": {},
   "outputs": [],
   "source": [
    "pl.plot(f.timebounds, f.temperature[:, 0, 0, 0] - f.temperature[100:151, 0, 0, 0].mean(axis=0));\n",
    "pl.axhline(1.5, color='r')\n",
    "pl.xlim(1850, 2100)\n",
    "pl.ylim(-.5, 3.5)"
   ]
  },
  {
   "cell_type": "code",
   "execution_count": null,
   "id": "50d24463",
   "metadata": {},
   "outputs": [],
   "source": [
    "calibrated_f4co2_mean"
   ]
  }
 ],
 "metadata": {
  "kernelspec": {
   "display_name": "Python 3 (ipykernel)",
   "language": "python",
   "name": "python3"
  },
  "language_info": {
   "codemirror_mode": {
    "name": "ipython",
    "version": 3
   },
   "file_extension": ".py",
   "mimetype": "text/x-python",
   "name": "python",
   "nbconvert_exporter": "python",
   "pygments_lexer": "ipython3",
   "version": "3.10.6"
  }
 },
 "nbformat": 4,
 "nbformat_minor": 5
}
