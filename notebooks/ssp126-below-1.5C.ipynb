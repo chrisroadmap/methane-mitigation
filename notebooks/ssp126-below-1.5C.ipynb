{
 "cells": [
  {
   "cell_type": "code",
   "execution_count": null,
   "id": "d32b67a5",
   "metadata": {},
   "outputs": [],
   "source": [
    "import numpy as np\n",
    "import matplotlib.pyplot as pl\n",
    "import pandas as pd\n",
    "import pooch\n",
    "\n",
    "from fair import FAIR\n",
    "from fair.io import read_properties\n",
    "from fair.interface import initialise, fill"
   ]
  },
  {
   "cell_type": "code",
   "execution_count": null,
   "id": "b67adb44",
   "metadata": {},
   "outputs": [],
   "source": [
    "f = FAIR(ch4_method=\"Thornhill2021\")"
   ]
  },
  {
   "cell_type": "code",
   "execution_count": null,
   "id": "125f8e62",
   "metadata": {},
   "outputs": [],
   "source": [
    "f.define_time(1750, 2101, 1)"
   ]
  },
  {
   "cell_type": "code",
   "execution_count": null,
   "id": "75e27428",
   "metadata": {},
   "outputs": [],
   "source": [
    "scenarios = ['ssp126']"
   ]
  },
  {
   "cell_type": "code",
   "execution_count": null,
   "id": "64e3b7bd",
   "metadata": {},
   "outputs": [],
   "source": [
    "f.define_scenarios(scenarios)"
   ]
  },
  {
   "cell_type": "code",
   "execution_count": null,
   "id": "d4950d58",
   "metadata": {},
   "outputs": [],
   "source": [
    "pd.options.display.max_columns = 50\n",
    "df_configs = pd.read_csv('../data/fair2.1-parameters/calibrated_constrained_parameters_v1.1.0.csv', index_col=0)\n",
    "valid_all = df_configs.index\n",
    "df_configs"
   ]
  },
  {
   "cell_type": "code",
   "execution_count": null,
   "id": "5e151857",
   "metadata": {},
   "outputs": [],
   "source": [
    "species, properties = read_properties()"
   ]
  },
  {
   "cell_type": "code",
   "execution_count": null,
   "id": "6684ae35",
   "metadata": {},
   "outputs": [],
   "source": [
    "f.define_species(species, properties)"
   ]
  },
  {
   "cell_type": "code",
   "execution_count": null,
   "id": "6c5f6e0c",
   "metadata": {},
   "outputs": [],
   "source": [
    "f.define_configs(list(valid_all))"
   ]
  },
  {
   "cell_type": "code",
   "execution_count": null,
   "id": "29d90528",
   "metadata": {},
   "outputs": [],
   "source": [
    "f.allocate()"
   ]
  },
  {
   "cell_type": "code",
   "execution_count": null,
   "id": "756cdb53",
   "metadata": {},
   "outputs": [],
   "source": [
    "f.fill_from_rcmip()"
   ]
  },
  {
   "cell_type": "code",
   "execution_count": null,
   "id": "439c403d",
   "metadata": {},
   "outputs": [],
   "source": [
    "df_solar = pd.read_csv(\n",
    "    \"../data/forcing/solar_erf_timebounds.csv\", index_col=\"year\"\n",
    ")\n",
    "df_volcanic = pd.read_csv(\n",
    "    \"../data/forcing/volcanic_ERF_monthly_-950001-201912.csv\"\n",
    ")"
   ]
  },
  {
   "cell_type": "code",
   "execution_count": null,
   "id": "80b95c20",
   "metadata": {},
   "outputs": [],
   "source": [
    "volcanic_forcing = np.zeros(352)\n",
    "for i, year in enumerate(np.arange(1750, 2021)):\n",
    "    volcanic_forcing[i] = np.mean(\n",
    "        df_volcanic.loc[\n",
    "            ((year - 1) <= df_volcanic[\"year\"]) & (df_volcanic[\"year\"] < year)\n",
    "        ].erf\n",
    "    )\n",
    "volcanic_forcing[271:281] = np.linspace(1, 0, 10) * volcanic_forcing[270]\n",
    "pl.plot(volcanic_forcing)"
   ]
  },
  {
   "cell_type": "code",
   "execution_count": null,
   "id": "99e36503",
   "metadata": {},
   "outputs": [],
   "source": [
    "solar_forcing=np.zeros(352)\n",
    "solar_forcing_df = pd.read_csv('../data/forcing/solar_erf_timebounds.csv', index_col=0)\n",
    "solar_forcing[:281] = solar_forcing_df['erf'].values[:281]\n",
    "solar_forcing[271:281] = np.linspace(1, 0, 10) * solar_forcing[271:281]\n",
    "pl.plot(solar_forcing)"
   ]
  },
  {
   "cell_type": "code",
   "execution_count": null,
   "id": "02055476",
   "metadata": {},
   "outputs": [],
   "source": [
    "df_methane = pd.read_csv(\n",
    "    \"../data/fair2.1-parameters/CH4_lifetime.csv\",\n",
    "    index_col=0,\n",
    ")"
   ]
  },
  {
   "cell_type": "code",
   "execution_count": null,
   "id": "f2d14b90",
   "metadata": {},
   "outputs": [],
   "source": [
    "trend_shape = np.ones(352)\n",
    "trend_shape[:271] = np.linspace(0, 1, 271)\n",
    "pl.plot(trend_shape)"
   ]
  },
  {
   "cell_type": "code",
   "execution_count": null,
   "id": "7353a03d",
   "metadata": {},
   "outputs": [],
   "source": [
    "# Fix NOx.\n",
    "rcmip_emissions_file = pooch.retrieve(\n",
    "    url=\"doi:10.5281/zenodo.4589756/rcmip-emissions-annual-means-v5-1-0.csv\",\n",
    "    known_hash=\"md5:4044106f55ca65b094670e7577eaf9b3\",\n",
    ")\n",
    "df_emis = pd.read_csv(rcmip_emissions_file)\n",
    "gfed_sectors = [\n",
    "    \"Emissions|NOx|MAGICC AFOLU|Agricultural Waste Burning\",\n",
    "    \"Emissions|NOx|MAGICC AFOLU|Forest Burning\",\n",
    "    \"Emissions|NOx|MAGICC AFOLU|Grassland Burning\",\n",
    "    \"Emissions|NOx|MAGICC AFOLU|Peat Burning\",\n",
    "]\n",
    "for scenario in scenarios:\n",
    "    f.emissions.loc[dict(specie=\"NOx\", scenario=scenario)] = (\n",
    "        df_emis.loc[\n",
    "            (df_emis[\"Scenario\"] == scenario)\n",
    "            & (df_emis[\"Region\"] == \"World\")\n",
    "            & (df_emis[\"Variable\"].isin(gfed_sectors)),\n",
    "            \"1750\":\"2300\",\n",
    "        ]\n",
    "        .interpolate(axis=1)\n",
    "        .values.squeeze()\n",
    "        .sum(axis=0)\n",
    "        * 46.006\n",
    "        / 30.006\n",
    "        + df_emis.loc[\n",
    "            (df_emis[\"Scenario\"] == scenario)\n",
    "            & (df_emis[\"Region\"] == \"World\")\n",
    "            & (df_emis[\"Variable\"] == \"Emissions|NOx|MAGICC AFOLU|Agriculture\"),\n",
    "            \"1750\":\"2300\",\n",
    "        ]\n",
    "        .interpolate(axis=1)\n",
    "        .values.squeeze()\n",
    "        + df_emis.loc[\n",
    "            (df_emis[\"Scenario\"] == scenario)\n",
    "            & (df_emis[\"Region\"] == \"World\")\n",
    "            & (df_emis[\"Variable\"] == \"Emissions|NOx|MAGICC Fossil and Industrial\"),\n",
    "            \"1750\":\"2300\",\n",
    "        ]\n",
    "        .interpolate(axis=1)\n",
    "        .values.squeeze()\n",
    "    )[:351][:, None]"
   ]
  },
  {
   "cell_type": "code",
   "execution_count": null,
   "id": "b0586311",
   "metadata": {},
   "outputs": [],
   "source": [
    "# solar and volcanic forcing\n",
    "fill(\n",
    "    f.forcing,\n",
    "    volcanic_forcing[:, None, None] * df_configs[\"scale Volcanic\"].values.squeeze(),\n",
    "    specie=\"Volcanic\",\n",
    ")\n",
    "fill(\n",
    "    f.forcing,\n",
    "    solar_forcing[:, None, None] * df_configs[\"solar_amplitude\"].values.squeeze()\n",
    "    + trend_shape[:, None, None] * df_configs[\"solar_trend\"].values.squeeze(),\n",
    "    specie=\"Solar\",\n",
    ")"
   ]
  },
  {
   "cell_type": "code",
   "execution_count": null,
   "id": "dbab5743",
   "metadata": {},
   "outputs": [],
   "source": [
    "# climate response\n",
    "fill(f.climate_configs[\"ocean_heat_capacity\"], df_configs.loc[:, \"c1\":\"c3\"].values)\n",
    "fill(\n",
    "    f.climate_configs[\"ocean_heat_transfer\"],\n",
    "    df_configs.loc[:, \"kappa1\":\"kappa3\"].values,\n",
    ")\n",
    "fill(f.climate_configs[\"deep_ocean_efficacy\"], df_configs[\"epsilon\"].values.squeeze())\n",
    "fill(f.climate_configs[\"gamma_autocorrelation\"], df_configs[\"gamma\"].values.squeeze())\n",
    "fill(f.climate_configs[\"sigma_eta\"], df_configs[\"sigma_eta\"].values.squeeze())\n",
    "fill(f.climate_configs[\"sigma_xi\"], df_configs[\"sigma_xi\"].values.squeeze())\n",
    "fill(f.climate_configs[\"seed\"], df_configs[\"seed\"])\n",
    "fill(f.climate_configs[\"stochastic_run\"], False)\n",
    "fill(f.climate_configs[\"use_seed\"], True)\n",
    "fill(f.climate_configs[\"forcing_4co2\"], df_configs[\"F_4xCO2\"])"
   ]
  },
  {
   "cell_type": "code",
   "execution_count": null,
   "id": "529016a9",
   "metadata": {},
   "outputs": [],
   "source": [
    "# species level\n",
    "f.fill_species_configs()"
   ]
  },
  {
   "cell_type": "code",
   "execution_count": null,
   "id": "70eb7bcf",
   "metadata": {},
   "outputs": [],
   "source": [
    "# carbon cycle\n",
    "fill(f.species_configs[\"iirf_0\"], df_configs[\"r0\"].values.squeeze(), specie=\"CO2\")\n",
    "fill(\n",
    "    f.species_configs[\"iirf_airborne\"], df_configs[\"rA\"].values.squeeze(), specie=\"CO2\"\n",
    ")\n",
    "fill(f.species_configs[\"iirf_uptake\"], df_configs[\"rU\"].values.squeeze(), specie=\"CO2\")\n",
    "fill(\n",
    "    f.species_configs[\"iirf_temperature\"],\n",
    "    df_configs[\"rT\"].values.squeeze(),\n",
    "    specie=\"CO2\",\n",
    ")\n",
    "\n",
    "# aerosol indirect\n",
    "fill(f.species_configs[\"aci_scale\"], df_configs[\"beta\"].values.squeeze())\n",
    "fill(\n",
    "    f.species_configs[\"aci_shape\"],\n",
    "    df_configs[\"shape Sulfur\"].values.squeeze(),\n",
    "    specie=\"Sulfur\",\n",
    ")\n",
    "fill(\n",
    "    f.species_configs[\"aci_shape\"], df_configs[\"shape BC\"].values.squeeze(), specie=\"BC\"\n",
    ")\n",
    "fill(\n",
    "    f.species_configs[\"aci_shape\"], df_configs[\"shape OC\"].values.squeeze(), specie=\"OC\"\n",
    ")\n",
    "\n",
    "# methane lifetime baseline and sensitivity\n",
    "fill(\n",
    "    f.species_configs[\"unperturbed_lifetime\"],\n",
    "    df_methane.loc[\"historical_best\", \"base\"],\n",
    "    specie=\"CH4\",\n",
    ")\n",
    "fill(\n",
    "    f.species_configs[\"ch4_lifetime_chemical_sensitivity\"],\n",
    "    df_methane.loc[\"historical_best\", \"CH4\"],\n",
    "    specie=\"CH4\",\n",
    ")\n",
    "fill(\n",
    "    f.species_configs[\"ch4_lifetime_chemical_sensitivity\"],\n",
    "    df_methane.loc[\"historical_best\", \"N2O\"],\n",
    "    specie=\"N2O\",\n",
    ")\n",
    "fill(\n",
    "    f.species_configs[\"ch4_lifetime_chemical_sensitivity\"],\n",
    "    df_methane.loc[\"historical_best\", \"VOC\"],\n",
    "    specie=\"VOC\",\n",
    ")\n",
    "fill(\n",
    "    f.species_configs[\"ch4_lifetime_chemical_sensitivity\"],\n",
    "    df_methane.loc[\"historical_best\", \"NOx\"],\n",
    "    specie=\"NOx\",\n",
    ")\n",
    "fill(\n",
    "    f.species_configs[\"ch4_lifetime_chemical_sensitivity\"],\n",
    "    df_methane.loc[\"historical_best\", \"HC\"],\n",
    "    specie=\"Equivalent effective stratospheric chlorine\",\n",
    ")\n",
    "fill(\n",
    "    f.species_configs[\"lifetime_temperature_sensitivity\"],\n",
    "    df_methane.loc[\"historical_best\", \"temp\"],\n",
    ")\n",
    "\n",
    "# emissions adjustments for N2O and CH4 (we don't want to make these defaults as people\n",
    "# might wanna run pulse expts with these gases)\n",
    "fill(f.species_configs[\"baseline_emissions\"], 19.019783117809567, specie=\"CH4\")\n",
    "fill(f.species_configs[\"baseline_emissions\"], 0.08602230754, specie=\"N2O\")\n",
    "fill(f.species_configs[\"baseline_emissions\"], 19.423526730206152, specie=\"NOx\")\n",
    "\n",
    "# aerosol direct\n",
    "for specie in [\n",
    "    \"BC\",\n",
    "    \"CH4\",\n",
    "    \"N2O\",\n",
    "    \"NH3\",\n",
    "    \"NOx\",\n",
    "    \"OC\",\n",
    "    \"Sulfur\",\n",
    "    \"VOC\",\n",
    "    \"Equivalent effective stratospheric chlorine\",\n",
    "]:\n",
    "    fill(\n",
    "        f.species_configs[\"erfari_radiative_efficiency\"],\n",
    "        df_configs[f\"ari {specie}\"],\n",
    "        specie=specie,\n",
    "    )\n",
    "\n",
    "# forcing scaling\n",
    "for specie in [\n",
    "    \"CO2\",\n",
    "    \"CH4\",\n",
    "    \"N2O\",\n",
    "    \"Stratospheric water vapour\",\n",
    "    \"Contrails\",\n",
    "    \"Light absorbing particles on snow and ice\",\n",
    "    \"Land use\",\n",
    "]:\n",
    "    fill(\n",
    "        f.species_configs[\"forcing_scale\"],\n",
    "        df_configs[f\"scale {specie}\"].values.squeeze(),\n",
    "        specie=specie,\n",
    "    )\n",
    "\n",
    "for specie in [\n",
    "    \"CFC-11\",\n",
    "    \"CFC-12\",\n",
    "    \"CFC-113\",\n",
    "    \"CFC-114\",\n",
    "    \"CFC-115\",\n",
    "    \"HCFC-22\",\n",
    "    \"HCFC-141b\",\n",
    "    \"HCFC-142b\",\n",
    "    \"CCl4\",\n",
    "    \"CHCl3\",\n",
    "    \"CH2Cl2\",\n",
    "    \"CH3Cl\",\n",
    "    \"CH3CCl3\",\n",
    "    \"CH3Br\",\n",
    "    \"Halon-1211\",\n",
    "    \"Halon-1301\",\n",
    "    \"Halon-2402\",\n",
    "    \"CF4\",\n",
    "    \"C2F6\",\n",
    "    \"C3F8\",\n",
    "    \"c-C4F8\",\n",
    "    \"C4F10\",\n",
    "    \"C5F12\",\n",
    "    \"C6F14\",\n",
    "    \"C7F16\",\n",
    "    \"C8F18\",\n",
    "    \"NF3\",\n",
    "    \"SF6\",\n",
    "    \"SO2F2\",\n",
    "    \"HFC-125\",\n",
    "    \"HFC-134a\",\n",
    "    \"HFC-143a\",\n",
    "    \"HFC-152a\",\n",
    "    \"HFC-227ea\",\n",
    "    \"HFC-23\",\n",
    "    \"HFC-236fa\",\n",
    "    \"HFC-245fa\",\n",
    "    \"HFC-32\",\n",
    "    \"HFC-365mfc\",\n",
    "    \"HFC-4310mee\",\n",
    "]:\n",
    "    fill(\n",
    "        f.species_configs[\"forcing_scale\"],\n",
    "        df_configs[\"scale minorGHG\"].values.squeeze(),\n",
    "        specie=specie,\n",
    "    )\n",
    "\n",
    "# ozone\n",
    "for specie in [\n",
    "    \"CH4\",\n",
    "    \"N2O\",\n",
    "    \"Equivalent effective stratospheric chlorine\",\n",
    "    \"CO\",\n",
    "    \"VOC\",\n",
    "    \"NOx\",\n",
    "]:\n",
    "    fill(\n",
    "        f.species_configs[\"ozone_radiative_efficiency\"],\n",
    "        df_configs[f\"o3 {specie}\"],\n",
    "        specie=specie,\n",
    "    )\n",
    "\n",
    "# tune down volcanic efficacy\n",
    "fill(f.species_configs[\"forcing_efficacy\"], 0.6, specie=\"Volcanic\")\n",
    "\n",
    "\n",
    "# initial condition of CO2 concentration (but not baseline for forcing calculations)\n",
    "fill(\n",
    "    f.species_configs[\"baseline_concentration\"],\n",
    "    df_configs[\"co2_concentration_1750\"].values.squeeze(),\n",
    "    specie=\"CO2\",\n",
    ")"
   ]
  },
  {
   "cell_type": "code",
   "execution_count": null,
   "id": "469d90e8",
   "metadata": {},
   "outputs": [],
   "source": [
    "initialise(f.concentration, f.species_configs['baseline_concentration'])\n",
    "initialise(f.forcing, 0)\n",
    "initialise(f.temperature, 0)\n",
    "initialise(f.airborne_emissions, 0)\n",
    "initialise(f.cumulative_emissions, 0)"
   ]
  },
  {
   "cell_type": "code",
   "execution_count": null,
   "id": "22ef881c",
   "metadata": {},
   "outputs": [],
   "source": [
    "f.run()"
   ]
  },
  {
   "cell_type": "code",
   "execution_count": null,
   "id": "77cfae91",
   "metadata": {},
   "outputs": [],
   "source": [
    "pl.plot(f.timebounds, f.temperature[:, 0, :, 0] - f.temperature[100:151, 0, :, 0].mean(axis=0));\n",
    "pl.xlim(1850, 2100)\n",
    "pl.ylim(-.5, 3.5)"
   ]
  },
  {
   "cell_type": "code",
   "execution_count": null,
   "id": "93a4e56c",
   "metadata": {},
   "outputs": [],
   "source": [
    "pl.plot(f.timebounds, f.temperature[:, 0, 0, 0] - f.temperature[100:151, 0, 0, 0].mean(axis=0));\n",
    "pl.axhline(1.5, color='r')\n",
    "pl.axhline(2, color='r')\n",
    "pl.xlim(1850, 2100)\n",
    "pl.ylim(-.5, 3.5)"
   ]
  }
 ],
 "metadata": {
  "kernelspec": {
   "display_name": "Python 3 (ipykernel)",
   "language": "python",
   "name": "python3"
  },
  "language_info": {
   "codemirror_mode": {
    "name": "ipython",
    "version": 3
   },
   "file_extension": ".py",
   "mimetype": "text/x-python",
   "name": "python",
   "nbconvert_exporter": "python",
   "pygments_lexer": "ipython3",
   "version": "3.11.3"
  }
 },
 "nbformat": 4,
 "nbformat_minor": 5
}
