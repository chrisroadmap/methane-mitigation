{
 "cells": [
  {
   "cell_type": "code",
   "execution_count": null,
   "id": "d96f41d1",
   "metadata": {},
   "outputs": [],
   "source": [
    "import os\n",
    "import copy\n",
    "\n",
    "from fair import FAIR\n",
    "from fair.interface import fill, initialise\n",
    "from fair.io import read_properties\n",
    "import pandas as pd\n",
    "import numpy as np\n",
    "import matplotlib.pyplot as pl\n",
    "from tqdm.auto import tqdm\n",
    "from scipy.stats import linregress"
   ]
  },
  {
   "cell_type": "code",
   "execution_count": null,
   "id": "f95aab09",
   "metadata": {},
   "outputs": [],
   "source": [
    "f = FAIR()"
   ]
  },
  {
   "cell_type": "code",
   "execution_count": null,
   "id": "b5bd848d",
   "metadata": {},
   "outputs": [],
   "source": [
    "f.define_time(1850, 2050, 1)"
   ]
  },
  {
   "cell_type": "code",
   "execution_count": null,
   "id": "12e08436",
   "metadata": {},
   "outputs": [],
   "source": [
    "scenarios = ['esm-bell-750PgC', 'esm-bell-1000PgC', 'esm-bell-2000PgC']"
   ]
  },
  {
   "cell_type": "code",
   "execution_count": null,
   "id": "0a46bbd8",
   "metadata": {},
   "outputs": [],
   "source": [
    "# do one at a time\n",
    "#scenarios = [scenarios[0]]\n",
    "f.define_scenarios(scenarios)\n",
    "fair_params_df = pd.read_csv('../data/fair2.1-parameters/calibration-1.4.0/calibrated_constrained_parameters.csv', index_col=0)"
   ]
  },
  {
   "cell_type": "code",
   "execution_count": null,
   "id": "0153c1d1",
   "metadata": {},
   "outputs": [],
   "source": [
    "f.define_configs(list(fair_params_df.index))"
   ]
  },
  {
   "cell_type": "code",
   "execution_count": null,
   "id": "0ee4f33b",
   "metadata": {},
   "outputs": [],
   "source": [
    "species = ['CO2', 'CH4', 'N2O']\n",
    "properties = {\n",
    "    \"CO2\": {\n",
    "        'type': 'co2',\n",
    "        'input_mode': 'emissions',\n",
    "        'greenhouse_gas': True,\n",
    "        'aerosol_chemistry_from_emissions': False,\n",
    "        'aerosol_chemistry_from_concentration': False\n",
    "    },\n",
    "    \"CH4\": {\n",
    "        'type': 'ch4',\n",
    "        'input_mode': 'emissions',\n",
    "        'greenhouse_gas': True,\n",
    "        'aerosol_chemistry_from_emissions': False,\n",
    "        'aerosol_chemistry_from_concentration': False\n",
    "    },\n",
    "    \"N2O\": {\n",
    "        'type': 'n2o',\n",
    "        'input_mode': 'emissions',\n",
    "        'greenhouse_gas': True,\n",
    "        'aerosol_chemistry_from_emissions': False,\n",
    "        'aerosol_chemistry_from_concentration': False\n",
    "    }\n",
    "}"
   ]
  },
  {
   "cell_type": "code",
   "execution_count": null,
   "id": "60bb73b2",
   "metadata": {},
   "outputs": [],
   "source": [
    "# declare species and properties\n",
    "f.define_species(species, properties)"
   ]
  },
  {
   "cell_type": "code",
   "execution_count": null,
   "id": "c34a7bee",
   "metadata": {},
   "outputs": [],
   "source": [
    "f.allocate()"
   ]
  },
  {
   "cell_type": "code",
   "execution_count": null,
   "id": "f5828ecd",
   "metadata": {},
   "outputs": [],
   "source": [
    "f.fill_from_rcmip()"
   ]
  },
  {
   "cell_type": "code",
   "execution_count": null,
   "id": "61ec4da8",
   "metadata": {},
   "outputs": [],
   "source": [
    "f.concentration.loc[dict(specie='CH4')] = 808.2490285\n",
    "f.concentration.loc[dict(specie='N2O')] = 273.021047"
   ]
  },
  {
   "cell_type": "code",
   "execution_count": null,
   "id": "2b6d1c89",
   "metadata": {},
   "outputs": [],
   "source": [
    "# Get default species configs\n",
    "f.fill_species_configs()\n",
    "\n",
    "# Climate response\n",
    "fill(f.climate_configs['ocean_heat_capacity'], fair_params_df.loc[:,'clim_c1':'clim_c3'])\n",
    "fill(f.climate_configs['ocean_heat_transfer'], fair_params_df.loc[:,'clim_kappa1':'clim_kappa3'])\n",
    "fill(f.climate_configs['deep_ocean_efficacy'], fair_params_df.loc[:,'clim_epsilon'])\n",
    "fill(f.climate_configs['gamma_autocorrelation'], fair_params_df.loc[:,'clim_gamma'])\n",
    "fill(f.climate_configs['stochastic_run'], False)\n",
    "\n",
    "# carbon cycle\n",
    "fill(f.species_configs['iirf_0'], fair_params_df.loc[:, 'cc_r0'].values.squeeze(), specie='CO2')\n",
    "fill(f.species_configs['iirf_airborne'], fair_params_df.loc[:, 'cc_rA'].values.squeeze(), specie='CO2')\n",
    "fill(f.species_configs['iirf_uptake'], fair_params_df.loc[:, 'cc_rU'].values.squeeze(), specie='CO2')\n",
    "fill(f.species_configs['iirf_temperature'], fair_params_df.loc[:, 'cc_rT'].values.squeeze(), specie='CO2')\n",
    "\n",
    "# Scale CO2 forcing based on its 4xCO2 calibration\n",
    "fill(f.species_configs[\"forcing_scale\"], fair_params_df[\"fscale_CO2\"].values.squeeze(), specie='CO2')\n",
    "\n",
    "# initial condition of CO2 concentration (but not baseline for forcing calculations)\n",
    "fill(f.species_configs['baseline_concentration'], 284.3169988, specie='CO2')\n",
    "fill(f.species_configs['baseline_concentration'], 808.2490285, specie='CH4')\n",
    "fill(f.species_configs['baseline_concentration'], 273.021047, specie='N2O')"
   ]
  },
  {
   "cell_type": "code",
   "execution_count": null,
   "id": "f12223e6",
   "metadata": {},
   "outputs": [],
   "source": [
    "fill(f.species_configs['forcing_reference_concentration'], 284.3169988, specie='CO2')\n",
    "fill(f.species_configs['forcing_reference_concentration'], 808.2490285, specie='CH4')\n",
    "fill(f.species_configs['forcing_reference_concentration'], 273.021047, specie='N2O')"
   ]
  },
  {
   "cell_type": "code",
   "execution_count": null,
   "id": "de1eb738",
   "metadata": {},
   "outputs": [],
   "source": [
    "f.species_configs"
   ]
  },
  {
   "cell_type": "code",
   "execution_count": null,
   "id": "b066b68c",
   "metadata": {},
   "outputs": [],
   "source": [
    "# set initial conditions\n",
    "initialise(f.concentration, f.species_configs['baseline_concentration'])\n",
    "initialise(f.forcing, 0)\n",
    "initialise(f.temperature, 0)\n",
    "initialise(f.airborne_emissions, 0)\n",
    "initialise(f.cumulative_emissions, 0)"
   ]
  },
  {
   "cell_type": "code",
   "execution_count": null,
   "id": "0c6532c2",
   "metadata": {},
   "outputs": [],
   "source": [
    "f.run()"
   ]
  },
  {
   "cell_type": "code",
   "execution_count": null,
   "id": "4532b42e",
   "metadata": {},
   "outputs": [],
   "source": [
    "f.forcing"
   ]
  },
  {
   "cell_type": "code",
   "execution_count": null,
   "id": "6adbd5f2",
   "metadata": {},
   "outputs": [],
   "source": [
    "pl.plot(f.temperature[100:,0,:,0] - f.temperature[100,0,:,0]);"
   ]
  },
  {
   "cell_type": "code",
   "execution_count": null,
   "id": "b943e4bc",
   "metadata": {},
   "outputs": [],
   "source": [
    "pl.plot(f.temperature[100:,1,:,0] - f.temperature[100,1,:,0]);"
   ]
  },
  {
   "cell_type": "code",
   "execution_count": null,
   "id": "a37b37c6",
   "metadata": {},
   "outputs": [],
   "source": [
    "pl.plot(f.temperature[100:,2,:,0] - f.temperature[100,2,:,0]);"
   ]
  },
  {
   "cell_type": "code",
   "execution_count": null,
   "id": "d0d09272",
   "metadata": {},
   "outputs": [],
   "source": [
    "# ZEC50\n",
    "pl.hist(f.temperature[150,0,:,0] - f.temperature[100,0,:,0], alpha=0.4, bins=np.arange(-0.8, 1.1, 0.02))\n",
    "pl.hist(f.temperature[150,1,:,0] - f.temperature[100,1,:,0], alpha=0.4, bins=np.arange(-0.8, 1.1, 0.02))\n",
    "pl.hist(f.temperature[150,2,:,0] - f.temperature[100,2,:,0], alpha=0.4, bins=np.arange(-0.8, 1.1, 0.02))\n",
    "print(np.percentile(f.temperature[150,0,:,0] - f.temperature[100,0,:,0], (5,50,95)))\n",
    "print(np.percentile(f.temperature[150,1,:,0] - f.temperature[100,1,:,0], (5,50,95)))\n",
    "print(np.percentile(f.temperature[150,2,:,0] - f.temperature[100,2,:,0], (5,50,95)))"
   ]
  },
  {
   "cell_type": "code",
   "execution_count": null,
   "id": "6f741587",
   "metadata": {},
   "outputs": [],
   "source": [
    "# ZEC100\n",
    "pl.hist(f.temperature[200,0,:,0] - f.temperature[100,0,:,0], alpha=0.4, bins=np.arange(-0.8, 1.1, 0.02))\n",
    "pl.hist(f.temperature[200,1,:,0] - f.temperature[100,1,:,0], alpha=0.4, bins=np.arange(-0.8, 1.1, 0.02))\n",
    "pl.hist(f.temperature[200,2,:,0] - f.temperature[100,2,:,0], alpha=0.4, bins=np.arange(-0.8, 1.1, 0.02))\n",
    "print(np.percentile(f.temperature[200,0,:,0] - f.temperature[100,0,:,0], (5,50,95)))\n",
    "print(np.percentile(f.temperature[200,1,:,0] - f.temperature[100,1,:,0], (5,50,95)))\n",
    "print(np.percentile(f.temperature[200,2,:,0] - f.temperature[100,2,:,0], (5,50,95)))"
   ]
  },
  {
   "cell_type": "code",
   "execution_count": null,
   "id": "328227d1",
   "metadata": {},
   "outputs": [],
   "source": [
    "pl.plot(f.concentration[:,0,:,0]);"
   ]
  },
  {
   "cell_type": "code",
   "execution_count": null,
   "id": "a11574ce",
   "metadata": {},
   "outputs": [],
   "source": [
    "f.temperature[150,0,12,0] - f.temperature[100,0,12,0]"
   ]
  },
  {
   "cell_type": "code",
   "execution_count": null,
   "id": "26ae2023",
   "metadata": {},
   "outputs": [],
   "source": [
    "f.temperature[150,0,:,0] - f.temperature[100,0,:,0]"
   ]
  },
  {
   "cell_type": "code",
   "execution_count": null,
   "id": "af2d0ff6",
   "metadata": {},
   "outputs": [],
   "source": [
    "df = pd.DataFrame(\n",
    "    np.array([\n",
    "        f.temperature[148,0,:,0] - f.temperature[100,0,:,0], \n",
    "        f.temperature[150,0,:,0] - f.temperature[100,0,:,0], \n",
    "        f.temperature[200,0,:,0] - f.temperature[100,0,:,0],\n",
    "        f.temperature[150,1,:,0] - f.temperature[100,1,:,0], \n",
    "        f.temperature[200,1,:,0] - f.temperature[100,1,:,0],\n",
    "    ]).T,\n",
    "    index=fair_params_df.index, \n",
    "    columns=['zec48_750', 'zec50_750', 'zec100_750', 'zec50_1000', 'zec100_1000']\n",
    ")"
   ]
  },
  {
   "cell_type": "code",
   "execution_count": null,
   "id": "68c7f7f2",
   "metadata": {},
   "outputs": [],
   "source": [
    "os.makedirs('../results/', exist_ok=True)\n",
    "df.to_csv('../results/zec_esm-bell_cal-1.4.0.csv')"
   ]
  },
  {
   "cell_type": "code",
   "execution_count": null,
   "id": "7501dd00",
   "metadata": {},
   "outputs": [],
   "source": []
  }
 ],
 "metadata": {
  "kernelspec": {
   "display_name": "Python 3 (ipykernel)",
   "language": "python",
   "name": "python3"
  },
  "language_info": {
   "codemirror_mode": {
    "name": "ipython",
    "version": 3
   },
   "file_extension": ".py",
   "mimetype": "text/x-python",
   "name": "python",
   "nbconvert_exporter": "python",
   "pygments_lexer": "ipython3",
   "version": "3.11.6"
  }
 },
 "nbformat": 4,
 "nbformat_minor": 5
}
